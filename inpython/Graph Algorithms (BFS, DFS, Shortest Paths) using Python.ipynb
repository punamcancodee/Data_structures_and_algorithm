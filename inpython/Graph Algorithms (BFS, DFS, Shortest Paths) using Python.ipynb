{
 "cells": [
  {
   "cell_type": "code",
   "execution_count": 1,
   "id": "e42e66d5",
   "metadata": {},
   "outputs": [],
   "source": [
    "!pip install jovian --upgrade --quiet"
   ]
  },
  {
   "cell_type": "code",
   "execution_count": 2,
   "id": "0e7a022b",
   "metadata": {},
   "outputs": [],
   "source": [
    "import jovian"
   ]
  },
  {
   "cell_type": "code",
   "execution_count": 3,
   "id": "cf4c5537",
   "metadata": {},
   "outputs": [
    {
     "data": {
      "application/javascript": [
       "window.require && require([\"base/js/namespace\"],function(Jupyter){Jupyter.notebook.save_checkpoint()})"
      ],
      "text/plain": [
       "<IPython.core.display.Javascript object>"
      ]
     },
     "metadata": {},
     "output_type": "display_data"
    },
    {
     "name": "stdout",
     "output_type": "stream",
     "text": [
      "[jovian] Committed successfully! https://jovian.ai/punam333/graph-algorithms-bfs-dfs-shortest-paths-using-python\r\n"
     ]
    },
    {
     "data": {
      "text/plain": [
       "'https://jovian.ai/punam333/graph-algorithms-bfs-dfs-shortest-paths-using-python'"
      ]
     },
     "execution_count": 3,
     "metadata": {},
     "output_type": "execute_result"
    }
   ],
   "source": [
    "jovian.commit()"
   ]
  },
  {
   "cell_type": "code",
   "execution_count": 4,
   "id": "cb6d31fc",
   "metadata": {},
   "outputs": [
    {
     "data": {
      "application/javascript": [
       "window.require && require([\"base/js/namespace\"],function(Jupyter){Jupyter.notebook.save_checkpoint()})"
      ],
      "text/plain": [
       "<IPython.core.display.Javascript object>"
      ]
     },
     "metadata": {},
     "output_type": "display_data"
    },
    {
     "name": "stdout",
     "output_type": "stream",
     "text": [
      "[jovian] Updating notebook \"punam333/graph-algorithms-bfs-dfs-shortest-paths-using-python\" on https://jovian.ai/\n",
      "[jovian] Committed successfully! https://jovian.ai/punam333/graph-algorithms-bfs-dfs-shortest-paths-using-python\n"
     ]
    },
    {
     "data": {
      "text/plain": [
       "'https://jovian.ai/punam333/graph-algorithms-bfs-dfs-shortest-paths-using-python'"
      ]
     },
     "execution_count": 4,
     "metadata": {},
     "output_type": "execute_result"
    }
   ],
   "source": [
    "jovian.commit()"
   ]
  },
  {
   "cell_type": "code",
   "execution_count": 5,
   "id": "6c4a65ec",
   "metadata": {},
   "outputs": [
    {
     "data": {
      "text/plain": [
       "(9, 8)"
      ]
     },
     "execution_count": 5,
     "metadata": {},
     "output_type": "execute_result"
    }
   ],
   "source": [
    "num_nodes3 = 9\n",
    "edges3 = [(0, 1), (0, 3), (1, 2), (2, 3), (4, 5), (4, 6), (5, 6), (7, 8)]\n",
    "num_nodes3, len(edges3)"
   ]
  },
  {
   "cell_type": "code",
   "execution_count": 6,
   "id": "d90f7d6f",
   "metadata": {},
   "outputs": [
    {
     "ename": "SyntaxError",
     "evalue": "invalid syntax (<ipython-input-6-4078e9442f05>, line 1)",
     "output_type": "error",
     "traceback": [
      "\u001b[1;36m  File \u001b[1;32m\"<ipython-input-6-4078e9442f05>\"\u001b[1;36m, line \u001b[1;32m1\u001b[0m\n\u001b[1;33m    https://upload.wikimedia.org/wikipedia/commons/thumb/7/7f/Depth-First-Search.gif/440px-Depth-First-Search.gif\u001b[0m\n\u001b[1;37m          ^\u001b[0m\n\u001b[1;31mSyntaxError\u001b[0m\u001b[1;31m:\u001b[0m invalid syntax\n"
     ]
    }
   ],
   "source": [
    "https://upload.wikimedia.org/wikipedia/commons/thumb/7/7f/Depth-First-Search.gif/440px-Depth-First-Search.gif\n",
    "    #so here we can see the sample of the image and also we can see that finding image is essential and also making graph is also very \n",
    "    #essential"
   ]
  },
  {
   "cell_type": "code",
   "execution_count": 7,
   "id": "be464ffd",
   "metadata": {},
   "outputs": [
    {
     "data": {
      "text/plain": [
       "(9, 10)"
      ]
     },
     "execution_count": 7,
     "metadata": {},
     "output_type": "execute_result"
    }
   ],
   "source": [
    "# Graph with weights\n",
    "num_nodes5 = 9\n",
    "edges5 = [(0, 1, 3), (0, 3, 2), (0, 8, 4), (1, 7, 4), (2, 7, 2), (2, 3, 6), \n",
    "          (2, 5, 1), (3, 4, 1), (4, 8, 8), (5, 6, 8)]\n",
    "\n",
    "num_nodes5, len(edges5)"
   ]
  },
  {
   "cell_type": "code",
   "execution_count": 8,
   "id": "d6b8dfe3",
   "metadata": {},
   "outputs": [
    {
     "data": {
      "text/plain": [
       "(5, 6)"
      ]
     },
     "execution_count": 8,
     "metadata": {},
     "output_type": "execute_result"
    }
   ],
   "source": [
    "num_nodes6 = 5\n",
    "edges6 = [(0, 1), (1, 2), (2, 3), (2, 4), (4, 2), (3, 0)]\n",
    "num_nodes6, len(edges6)"
   ]
  },
  {
   "cell_type": "code",
   "execution_count": 9,
   "id": "38d18084",
   "metadata": {},
   "outputs": [],
   "source": [
    "def update_distances(graph, current, distance, parent=None):\n",
    "    \"\"\"Update the distances of the current node's neighbors\"\"\"\n",
    "    neighbors = graph.data[current]\n",
    "    weights = graph.weight[current]\n",
    "    for i, node in enumerate(neighbors):\n",
    "        weight = weights[i]\n",
    "        if distance[current] + weight < distance[node]:\n",
    "            distance[node] = distance[current] + weight\n",
    "            if parent:\n",
    "                parent[node] = current\n",
    "\n",
    "def pick_next_node(distance, visited):\n",
    "    \"\"\"Pick the next univisited node at the smallest distance\"\"\"\n",
    "    min_distance = float('inf')\n",
    "    min_node = None\n",
    "    for node in range(len(distance)):\n",
    "        if not visited[node] and distance[node] < min_distance:\n",
    "            min_node = node\n",
    "            min_distance = distance[node]\n",
    "    return min_node"
   ]
  },
  {
   "cell_type": "code",
   "execution_count": 10,
   "id": "08a2f07a",
   "metadata": {},
   "outputs": [
    {
     "data": {
      "text/plain": [
       "(6, 7)"
      ]
     },
     "execution_count": 10,
     "metadata": {},
     "output_type": "execute_result"
    }
   ],
   "source": [
    "num_nodes7 = 6\n",
    "edges7 = [(0, 1, 4), (0, 2, 2), (1, 2, 5), (1, 3, 10), (2, 4, 3), (4, 3, 4), (3, 5, 11)]\n",
    "num_nodes7, len(edges7)"
   ]
  },
  {
   "cell_type": "code",
   "execution_count": 11,
   "id": "f9133902",
   "metadata": {},
   "outputs": [],
   "source": [
    "import jovian"
   ]
  },
  {
   "cell_type": "code",
   "execution_count": 12,
   "id": "65a53a02",
   "metadata": {},
   "outputs": [
    {
     "data": {
      "application/javascript": [
       "window.require && require([\"base/js/namespace\"],function(Jupyter){Jupyter.notebook.save_checkpoint()})"
      ],
      "text/plain": [
       "<IPython.core.display.Javascript object>"
      ]
     },
     "metadata": {},
     "output_type": "display_data"
    },
    {
     "name": "stdout",
     "output_type": "stream",
     "text": [
      "[jovian] Updating notebook \"punam333/graph-algorithms-bfs-dfs-shortest-paths-using-python\" on https://jovian.ai/\n",
      "[jovian] Committed successfully! https://jovian.ai/punam333/graph-algorithms-bfs-dfs-shortest-paths-using-python\n"
     ]
    },
    {
     "data": {
      "text/plain": [
       "'https://jovian.ai/punam333/graph-algorithms-bfs-dfs-shortest-paths-using-python'"
      ]
     },
     "execution_count": 12,
     "metadata": {},
     "output_type": "execute_result"
    }
   ],
   "source": [
    "jovian.commit()"
   ]
  },
  {
   "cell_type": "code",
   "execution_count": 13,
   "id": "c745edab",
   "metadata": {},
   "outputs": [
    {
     "data": {
      "text/plain": [
       "(5, 7)"
      ]
     },
     "execution_count": 13,
     "metadata": {},
     "output_type": "execute_result"
    }
   ],
   "source": [
    "num_nodes1 = 5\n",
    "edges1 = [(0, 1), (1, 2), (2, 3), (3, 4), (4, 0), (1, 4), (1, 3)]\n",
    "num_nodes1, len(edges1)"
   ]
  },
  {
   "cell_type": "code",
   "execution_count": 14,
   "id": "bad0b1f7",
   "metadata": {},
   "outputs": [
    {
     "data": {
      "text/plain": [
       "(9, 8)"
      ]
     },
     "execution_count": 14,
     "metadata": {},
     "output_type": "execute_result"
    }
   ],
   "source": [
    "num_nodes3 = 9\n",
    "edges3 = [(0, 1), (0, 3), (1, 2), (2, 3), (4, 5), (4, 6), (5, 6), (7, 8)]\n",
    "num_nodes3, len(edges3)"
   ]
  },
  {
   "cell_type": "code",
   "execution_count": 15,
   "id": "17692ad3",
   "metadata": {},
   "outputs": [
    {
     "data": {
      "text/plain": [
       "(9, 10)"
      ]
     },
     "execution_count": 15,
     "metadata": {},
     "output_type": "execute_result"
    }
   ],
   "source": [
    "num_nodes5 = 9\n",
    "edges5 = [(0, 1, 3), (0, 3, 2), (0, 8, 4), (1, 7, 4), (2, 7, 2), (2, 3, 6), \n",
    "          (2, 5, 1), (3, 4, 1), (4, 8, 8), (5, 6, 8)]\n",
    "\n",
    "num_nodes5, len(edges5)"
   ]
  },
  {
   "cell_type": "code",
   "execution_count": 16,
   "id": "5cc2fdb9",
   "metadata": {},
   "outputs": [
    {
     "data": {
      "text/plain": [
       "(5, 6)"
      ]
     },
     "execution_count": 16,
     "metadata": {},
     "output_type": "execute_result"
    }
   ],
   "source": [
    "# Directed graph\n",
    "num_nodes6 = 5\n",
    "edges6 = [(0, 1), (1, 2), (2, 3), (2, 4), (4, 2), (3, 0)]\n",
    "num_nodes6, len(edges6)"
   ]
  },
  {
   "cell_type": "code",
   "execution_count": 17,
   "id": "166b5483",
   "metadata": {},
   "outputs": [
    {
     "data": {
      "text/plain": [
       "(6, 7)"
      ]
     },
     "execution_count": 17,
     "metadata": {},
     "output_type": "execute_result"
    }
   ],
   "source": [
    "num_nodes7 = 6\n",
    "edges7 = [(0, 1, 4), (0, 2, 2), (1, 2, 5), (1, 3, 10), (2, 4, 3), (4, 3, 4), (3, 5, 11)]\n",
    "num_nodes7, len(edges7)"
   ]
  },
  {
   "cell_type": "code",
   "execution_count": 18,
   "id": "4eeb5306",
   "metadata": {},
   "outputs": [],
   "source": [
    "class Graph:\n",
    "    def __init__(self, num_nodes, edges):\n",
    "        self.data = [[] for _ in range(num_nodes)]\n",
    "        for v1, v2 in edges:\n",
    "            self.data[v1].append(v2)\n",
    "            self.data[v2].append(v1)\n",
    "            \n",
    "    def __repr__(self):\n",
    "        return \"\\n\".join([\"{} : {}\".format(i, neighbors) for (i, neighbors) in enumerate(self.data)])\n",
    "\n",
    "    def __str__(self):\n",
    "        return repr(self)"
   ]
  },
  {
   "cell_type": "code",
   "execution_count": 19,
   "id": "0b05a68b",
   "metadata": {},
   "outputs": [],
   "source": [
    "g1 = Graph(num_nodes1, edges1)"
   ]
  },
  {
   "cell_type": "code",
   "execution_count": 20,
   "id": "a0b9d699",
   "metadata": {},
   "outputs": [
    {
     "data": {
      "text/plain": [
       "0 : [1, 4]\n",
       "1 : [0, 2, 4, 3]\n",
       "2 : [1, 3]\n",
       "3 : [2, 4, 1]\n",
       "4 : [3, 0, 1]"
      ]
     },
     "execution_count": 20,
     "metadata": {},
     "output_type": "execute_result"
    }
   ],
   "source": [
    "g1"
   ]
  },
  {
   "cell_type": "code",
   "execution_count": 21,
   "id": "215c3dc2",
   "metadata": {},
   "outputs": [],
   "source": [
    "def bfs(graph, source):\n",
    "    visited = [False] * len(graph.data)\n",
    "    queue = []\n",
    "    \n",
    "    visited[source] = True    \n",
    "    queue.append(source)\n",
    "    i = 0\n",
    "    \n",
    "    while i < len(queue):\n",
    "        for v in graph.data[queue[i]]:\n",
    "            if not visited[v]:\n",
    "                visited[v] = True\n",
    "                queue.append(v)\n",
    "        i += 1\n",
    "        \n",
    "    return queue"
   ]
  },
  {
   "cell_type": "code",
   "execution_count": 22,
   "id": "1c90327b",
   "metadata": {},
   "outputs": [
    {
     "data": {
      "text/plain": [
       "[3, 2, 4, 1, 0]"
      ]
     },
     "execution_count": 22,
     "metadata": {},
     "output_type": "execute_result"
    }
   ],
   "source": [
    "bfs(g1, 3)"
   ]
  },
  {
   "cell_type": "code",
   "execution_count": 23,
   "id": "204658e8",
   "metadata": {},
   "outputs": [],
   "source": [
    "def dfs(graph, source):\n",
    "    visited = [False] * len(graph.data)\n",
    "    stack = [source]\n",
    "    result = []\n",
    "    \n",
    "    while len(stack) > 0:\n",
    "        current = stack.pop()\n",
    "        if not visited[current]:\n",
    "            result.append(current)\n",
    "            visited[current] = True\n",
    "            for v in graph.data[current]:\n",
    "                stack.append(v)\n",
    "                \n",
    "    return result"
   ]
  },
  {
   "cell_type": "code",
   "execution_count": 24,
   "id": "82e44bc6",
   "metadata": {},
   "outputs": [
    {
     "data": {
      "text/plain": [
       "[0, 4, 1, 3, 2]"
      ]
     },
     "execution_count": 24,
     "metadata": {},
     "output_type": "execute_result"
    }
   ],
   "source": [
    "dfs(g1, 0)"
   ]
  },
  {
   "cell_type": "code",
   "execution_count": 25,
   "id": "c4997a79",
   "metadata": {},
   "outputs": [],
   "source": [
    "class Graph:\n",
    "    def __init__(self, num_nodes, edges, directed=False):\n",
    "        self.data = [[] for _ in range(num_nodes)]\n",
    "        self.weight = [[] for _ in range(num_nodes)]\n",
    "        \n",
    "        self.directed = directed\n",
    "        self.weighted = len(edges) > 0 and len(edges[0]) == 3\n",
    "            \n",
    "        for e in edges:\n",
    "            self.data[e[0]].append(e[1])\n",
    "            if self.weighted:\n",
    "                self.weight[e[0]].append(e[2])\n",
    "            \n",
    "            if not directed:\n",
    "                self.data[e[1]].append(e[0])\n",
    "                if self.weighted:\n",
    "                    self.data[e[1]].append(e[2])\n",
    "                \n",
    "    def __repr__(self):\n",
    "        result = \"\"\n",
    "        for i in range(len(self.data)):\n",
    "            pairs = list(zip(self.data[i], self.weight[i]))\n",
    "            result += \"{}: {}\\n\".format(i, pairs)\n",
    "        return result\n",
    "\n",
    "    def __str__(self):\n",
    "        return repr(self)"
   ]
  },
  {
   "cell_type": "code",
   "execution_count": 26,
   "id": "a4ed8258",
   "metadata": {},
   "outputs": [],
   "source": [
    "g7 = Graph(num_nodes7, edges7, directed=True)"
   ]
  },
  {
   "cell_type": "code",
   "execution_count": 27,
   "id": "eef309e9",
   "metadata": {},
   "outputs": [
    {
     "data": {
      "text/plain": [
       "0: [(1, 4), (2, 2)]\n",
       "1: [(2, 5), (3, 10)]\n",
       "2: [(4, 3)]\n",
       "3: [(5, 11)]\n",
       "4: [(3, 4)]\n",
       "5: []"
      ]
     },
     "execution_count": 27,
     "metadata": {},
     "output_type": "execute_result"
    }
   ],
   "source": [
    "g7"
   ]
  },
  {
   "cell_type": "code",
   "execution_count": 28,
   "id": "1e40d789",
   "metadata": {},
   "outputs": [
    {
     "data": {
      "text/plain": [
       "[[4, 2], [5, 10], [3], [11], [4], []]"
      ]
     },
     "execution_count": 28,
     "metadata": {},
     "output_type": "execute_result"
    }
   ],
   "source": [
    "g7.weight"
   ]
  },
  {
   "cell_type": "code",
   "execution_count": 29,
   "id": "80c81f55",
   "metadata": {},
   "outputs": [],
   "source": [
    "def update_distances(graph, current, distance, parent=None):\n",
    "    \"\"\"Update the distances of the current node's neighbors\"\"\"\n",
    "    neighbors = graph.data[current]\n",
    "    weights = graph.weight[current]\n",
    "    for i, node in enumerate(neighbors):\n",
    "        weight = weights[i]\n",
    "        if distance[current] + weight < distance[node]:\n",
    "            distance[node] = distance[current] + weight\n",
    "            if parent:\n",
    "                parent[node] = current\n",
    "\n",
    "def pick_next_node(distance, visited):\n",
    "    \"\"\"Pick the next univisited node at the smallest distance\"\"\"\n",
    "    min_distance = float('inf')\n",
    "    min_node = None\n",
    "    for node in range(len(distance)):\n",
    "        if not visited[node] and distance[node] < min_distance:\n",
    "            min_node = node\n",
    "            min_distance = distance[node]\n",
    "    return min_node\n",
    "        \n",
    "def shortest_path(graph, source, dest):\n",
    "    \"\"\"Find the length of the shortest path between source and destination\"\"\"\n",
    "    visited = [False] * len(graph.data)\n",
    "    distance = [float('inf')] * len(graph.data)\n",
    "    parent = [None] * len(graph.data)\n",
    "    queue = []\n",
    "    idx = 0\n",
    "    \n",
    "    queue.append(source)\n",
    "    distance[source] = 0\n",
    "    visited[source] = True\n",
    "    \n",
    "    while idx < len(queue) and not visited[dest]:\n",
    "        current = queue[idx]\n",
    "        update_distances(graph, current, distance, parent)\n",
    "        \n",
    "        next_node = pick_next_node(distance, visited)\n",
    "        if next_node is not None:\n",
    "            visited[next_node] = True\n",
    "            queue.append(next_node)\n",
    "        idx += 1\n",
    "        \n",
    "    return distance[dest], distance, parent"
   ]
  },
  {
   "cell_type": "code",
   "execution_count": 30,
   "id": "b199f148",
   "metadata": {},
   "outputs": [
    {
     "data": {
      "text/plain": [
       "(20, [0, 4, 2, 9, 5, 20], [None, 0, 0, 4, 2, 3])"
      ]
     },
     "execution_count": 30,
     "metadata": {},
     "output_type": "execute_result"
    }
   ],
   "source": [
    "shortest_path(g7, 0, 5)"
   ]
  },
  {
   "cell_type": "code",
   "execution_count": 31,
   "id": "75416e5c",
   "metadata": {},
   "outputs": [],
   "source": [
    "import jovian"
   ]
  },
  {
   "cell_type": "code",
   "execution_count": 32,
   "id": "bacb76f9",
   "metadata": {},
   "outputs": [
    {
     "data": {
      "application/javascript": [
       "window.require && require([\"base/js/namespace\"],function(Jupyter){Jupyter.notebook.save_checkpoint()})"
      ],
      "text/plain": [
       "<IPython.core.display.Javascript object>"
      ]
     },
     "metadata": {},
     "output_type": "display_data"
    },
    {
     "name": "stdout",
     "output_type": "stream",
     "text": [
      "[jovian] Updating notebook \"punam333/graph-algorithms-bfs-dfs-shortest-paths-using-python\" on https://jovian.ai/\n",
      "[jovian] Committed successfully! https://jovian.ai/punam333/graph-algorithms-bfs-dfs-shortest-paths-using-python\n"
     ]
    },
    {
     "data": {
      "text/plain": [
       "'https://jovian.ai/punam333/graph-algorithms-bfs-dfs-shortest-paths-using-python'"
      ]
     },
     "execution_count": 32,
     "metadata": {},
     "output_type": "execute_result"
    }
   ],
   "source": [
    "jovian.commit()"
   ]
  },
  {
   "cell_type": "code",
   "execution_count": null,
   "id": "1d8adb7f",
   "metadata": {},
   "outputs": [],
   "source": []
  }
 ],
 "metadata": {
  "kernelspec": {
   "display_name": "Python 3",
   "language": "python",
   "name": "python3"
  },
  "language_info": {
   "codemirror_mode": {
    "name": "ipython",
    "version": 3
   },
   "file_extension": ".py",
   "mimetype": "text/x-python",
   "name": "python",
   "nbconvert_exporter": "python",
   "pygments_lexer": "ipython3",
   "version": "3.8.8"
  }
 },
 "nbformat": 4,
 "nbformat_minor": 5
}
