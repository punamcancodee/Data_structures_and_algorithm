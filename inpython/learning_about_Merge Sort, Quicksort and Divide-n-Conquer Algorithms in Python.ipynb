{
 "cells": [
  {
   "cell_type": "code",
   "execution_count": 2,
   "id": "f15c4c33",
   "metadata": {},
   "outputs": [],
   "source": [
    "#so here we will discuss about merge sort and list and quicksort and divide _n_conquer algorithm and allabout sorting the list and \n",
    "#all through data structures and algorithm by using jupyter notebook."
   ]
  },
  {
   "cell_type": "code",
   "execution_count": 3,
   "id": "885d7b03",
   "metadata": {},
   "outputs": [],
   "source": [
    "# nums: A list of numbers e.g. [4, 2, 6, 3, 4, 6, 2, 1]\n",
    "#     The sorted version of nums e.g. [1, 2, 2, 3, 4, 4, 6, 6]"
   ]
  },
  {
   "cell_type": "code",
   "execution_count": 1,
   "id": "e68a90cb",
   "metadata": {},
   "outputs": [],
   "source": [
    "def sort(nums):\n",
    "    pass\n",
    "\n",
    "#so now we will solve the above problem using code"
   ]
  },
  {
   "cell_type": "code",
   "execution_count": 5,
   "id": "f0122d61",
   "metadata": {},
   "outputs": [],
   "source": [
    "# List of numbers in random order\n",
    "test0 = {\n",
    "    'input': {\n",
    "        'nums': [4, 2, 6, 3, 4, 6, 2, 1]\n",
    "    },\n",
    "    'output': [1, 2, 2, 3, 4, 4, 6, 6]\n",
    "}"
   ]
  },
  {
   "cell_type": "code",
   "execution_count": 6,
   "id": "fdb7c25e",
   "metadata": {},
   "outputs": [],
   "source": [
    "# List of numbers in random order\n",
    "test1 = {\n",
    "    'input': {\n",
    "        'nums': [5, 2, 6, 1, 23, 7, -12, 12, -243, 0]\n",
    "    },\n",
    "    'output': [-243, -12, 0, 1, 2, 5, 6, 7, 12, 23]\n",
    "}"
   ]
  },
  {
   "cell_type": "code",
   "execution_count": 7,
   "id": "27bdb6a5",
   "metadata": {},
   "outputs": [],
   "source": [
    "# A list that's already sorted\n",
    "test2 = {\n",
    "    'input': {\n",
    "        'nums': [3, 5, 6, 8, 9, 10, 99]\n",
    "    },\n",
    "    'output': [3, 5, 6, 8, 9, 10, 99]\n",
    "}"
   ]
  },
  {
   "cell_type": "code",
   "execution_count": 8,
   "id": "85adc2e8",
   "metadata": {},
   "outputs": [],
   "source": [
    "# A list that's sorted in descending order\n",
    "test3 = {\n",
    "    'input': {\n",
    "        'nums': [99, 10, 9, 8, 6, 5, 3]\n",
    "    },\n",
    "    'output': [3, 5, 6, 8, 9, 10, 99]\n",
    "}"
   ]
  },
  {
   "cell_type": "code",
   "execution_count": 9,
   "id": "349811a5",
   "metadata": {},
   "outputs": [],
   "source": [
    "# A list containing repeating elements\n",
    "test4 = {\n",
    "    'input': {\n",
    "        'nums': [5, -12, 2, 6, 1, 23, 7, 7, -12, 6, 12, 1, -243, 1, 0]\n",
    "    },\n",
    "    'output': [-243, -12, -12, 0, 1, 1, 1, 2, 5, 6, 6, 7, 7, 12, 23]\n",
    "}"
   ]
  },
  {
   "cell_type": "code",
   "execution_count": 10,
   "id": "f6037c6a",
   "metadata": {},
   "outputs": [],
   "source": [
    "# An empty list \n",
    "test5 = {\n",
    "    'input': {\n",
    "        'nums': []\n",
    "    },\n",
    "    'output': []\n",
    "}"
   ]
  },
  {
   "cell_type": "code",
   "execution_count": 11,
   "id": "8baa09e8",
   "metadata": {},
   "outputs": [],
   "source": [
    "# A list containing just one element\n",
    "test6 = {\n",
    "    'input': {\n",
    "        'nums': [23]\n",
    "    },\n",
    "    'output': [23]\n",
    "}"
   ]
  },
  {
   "cell_type": "code",
   "execution_count": 12,
   "id": "fd8807a1",
   "metadata": {},
   "outputs": [],
   "source": [
    "# A list containing one element repeated many times\n",
    "test7 = {\n",
    "    'input': {\n",
    "        'nums': [42, 42, 42, 42, 42, 42, 42]\n",
    "    },\n",
    "    'output': [42, 42, 42, 42, 42, 42, 42]\n",
    "}"
   ]
  },
  {
   "cell_type": "code",
   "execution_count": 13,
   "id": "b3daaeee",
   "metadata": {},
   "outputs": [],
   "source": [
    "import random\n",
    "\n",
    "in_list = list(range(10000))\n",
    "out_list = list(range(10000))\n",
    "random.shuffle(in_list)\n",
    "\n",
    "test8 = {\n",
    "    'input': {\n",
    "        'nums': in_list\n",
    "    },\n",
    "    'output': out_list\n",
    "}"
   ]
  },
  {
   "cell_type": "code",
   "execution_count": 14,
   "id": "237d27f8",
   "metadata": {},
   "outputs": [],
   "source": [
    "tests = [test0, test1, test2, test3, test4, test5, test6, test7, test8]"
   ]
  },
  {
   "cell_type": "code",
   "execution_count": 15,
   "id": "354973f6",
   "metadata": {},
   "outputs": [],
   "source": [
    "def bubble_sort(nums):\n",
    "    # Create a copy of the list, to avoid changing it\n",
    "    nums = list(nums)\n",
    "    \n",
    "    # 4. Repeat the process n-1 times\n",
    "    for _ in range(len(nums) - 1):\n",
    "        \n",
    "        # 1. Iterate over the array (except last element)\n",
    "        for i in range(len(nums) - 1):\n",
    "            \n",
    "            # 2. Compare the number with  \n",
    "            if nums[i] > nums[i+1]:\n",
    "                \n",
    "                # 3. Swap the two elements\n",
    "                nums[i], nums[i+1] = nums[i+1], nums[i]\n",
    "    \n",
    "    # Return the sorted list\n",
    "    return nums"
   ]
  },
  {
   "cell_type": "code",
   "execution_count": 16,
   "id": "84c5067b",
   "metadata": {},
   "outputs": [
    {
     "data": {
      "text/plain": [
       "(3, 2)"
      ]
     },
     "execution_count": 16,
     "metadata": {},
     "output_type": "execute_result"
    }
   ],
   "source": [
    "x, y = 2, 3\n",
    "x, y = y, x\n",
    "x, y"
   ]
  },
  {
   "cell_type": "code",
   "execution_count": 17,
   "id": "bca1fe04",
   "metadata": {},
   "outputs": [
    {
     "name": "stdout",
     "output_type": "stream",
     "text": [
      "Input: [4, 2, 6, 3, 4, 6, 2, 1]\n",
      "Expected output: [1, 2, 2, 3, 4, 4, 6, 6]\n",
      "Actual output: [1, 2, 2, 3, 4, 4, 6, 6]\n",
      "Match: True\n"
     ]
    }
   ],
   "source": [
    "nums0, output0 = test0['input']['nums'], test0['output']\n",
    "\n",
    "print('Input:', nums0)\n",
    "print('Expected output:', output0)\n",
    "result0 = bubble_sort(nums0)\n",
    "print('Actual output:', result0)\n",
    "print('Match:', result0 == output0)"
   ]
  },
  {
   "cell_type": "code",
   "execution_count": 18,
   "id": "414a184f",
   "metadata": {},
   "outputs": [
    {
     "data": {
      "text/plain": [
       "True"
      ]
     },
     "execution_count": 18,
     "metadata": {},
     "output_type": "execute_result"
    }
   ],
   "source": [
    "result0 == output0"
   ]
  },
  {
   "cell_type": "code",
   "execution_count": 19,
   "id": "30c5694a",
   "metadata": {},
   "outputs": [],
   "source": [
    "!pip install jovian --upgrade --quiet"
   ]
  },
  {
   "cell_type": "code",
   "execution_count": 20,
   "id": "4b36bef0",
   "metadata": {},
   "outputs": [],
   "source": [
    "from jovian.pythondsa import evaluate_test_cases"
   ]
  },
  {
   "cell_type": "code",
   "execution_count": 21,
   "id": "001132b4",
   "metadata": {},
   "outputs": [
    {
     "name": "stdout",
     "output_type": "stream",
     "text": [
      "\n",
      "\u001b[1mTEST CASE #0\u001b[0m\n",
      "\n",
      "Input:\n",
      "{'nums': [4, 2, 6, 3, 4, 6, 2, 1]}\n",
      "\n",
      "Expected Output:\n",
      "[1, 2, 2, 3, 4, 4, 6, 6]\n",
      "\n",
      "\n",
      "Actual Output:\n",
      "[1, 2, 2, 3, 4, 4, 6, 6]\n",
      "\n",
      "Execution Time:\n",
      "0.033 ms\n",
      "\n",
      "Test Result:\n",
      "\u001b[92mPASSED\u001b[0m\n",
      "\n",
      "\n",
      "\u001b[1mTEST CASE #1\u001b[0m\n",
      "\n",
      "Input:\n",
      "{'nums': [5, 2, 6, 1, 23, 7, -12, 12, -243, 0]}\n",
      "\n",
      "Expected Output:\n",
      "[-243, -12, 0, 1, 2, 5, 6, 7, 12, 23]\n",
      "\n",
      "\n",
      "Actual Output:\n",
      "[-243, -12, 0, 1, 2, 5, 6, 7, 12, 23]\n",
      "\n",
      "Execution Time:\n",
      "0.04 ms\n",
      "\n",
      "Test Result:\n",
      "\u001b[92mPASSED\u001b[0m\n",
      "\n",
      "\n",
      "\u001b[1mTEST CASE #2\u001b[0m\n",
      "\n",
      "Input:\n",
      "{'nums': [3, 5, 6, 8, 9, 10, 99]}\n",
      "\n",
      "Expected Output:\n",
      "[3, 5, 6, 8, 9, 10, 99]\n",
      "\n",
      "\n",
      "Actual Output:\n",
      "[3, 5, 6, 8, 9, 10, 99]\n",
      "\n",
      "Execution Time:\n",
      "0.02 ms\n",
      "\n",
      "Test Result:\n",
      "\u001b[92mPASSED\u001b[0m\n",
      "\n",
      "\n",
      "\u001b[1mTEST CASE #3\u001b[0m\n",
      "\n",
      "Input:\n",
      "{'nums': [99, 10, 9, 8, 6, 5, 3]}\n",
      "\n",
      "Expected Output:\n",
      "[3, 5, 6, 8, 9, 10, 99]\n",
      "\n",
      "\n",
      "Actual Output:\n",
      "[3, 5, 6, 8, 9, 10, 99]\n",
      "\n",
      "Execution Time:\n",
      "0.026 ms\n",
      "\n",
      "Test Result:\n",
      "\u001b[92mPASSED\u001b[0m\n",
      "\n",
      "\n",
      "\u001b[1mTEST CASE #4\u001b[0m\n",
      "\n",
      "Input:\n",
      "{'nums': [5, -12, 2, 6, 1, 23, 7, 7, -12, 6, 12, 1, -243, 1, 0]}\n",
      "\n",
      "Expected Output:\n",
      "[-243, -12, -12, 0, 1, 1, 1, 2, 5, 6, 6, 7, 7, 12, 23]\n",
      "\n",
      "\n",
      "Actual Output:\n",
      "[-243, -12, -12, 0, 1, 1, 1, 2, 5, 6, 6, 7, 7, 12, 23]\n",
      "\n",
      "Execution Time:\n",
      "0.124 ms\n",
      "\n",
      "Test Result:\n",
      "\u001b[92mPASSED\u001b[0m\n",
      "\n",
      "\n",
      "\u001b[1mTEST CASE #5\u001b[0m\n",
      "\n",
      "Input:\n",
      "{'nums': []}\n",
      "\n",
      "Expected Output:\n",
      "[]\n",
      "\n",
      "\n",
      "Actual Output:\n",
      "[]\n",
      "\n",
      "Execution Time:\n",
      "0.008 ms\n",
      "\n",
      "Test Result:\n",
      "\u001b[92mPASSED\u001b[0m\n",
      "\n",
      "\n",
      "\u001b[1mTEST CASE #6\u001b[0m\n",
      "\n",
      "Input:\n",
      "{'nums': [23]}\n",
      "\n",
      "Expected Output:\n",
      "[23]\n",
      "\n",
      "\n",
      "Actual Output:\n",
      "[23]\n",
      "\n",
      "Execution Time:\n",
      "0.007 ms\n",
      "\n",
      "Test Result:\n",
      "\u001b[92mPASSED\u001b[0m\n",
      "\n",
      "\n",
      "\u001b[1mTEST CASE #7\u001b[0m\n",
      "\n",
      "Input:\n",
      "{'nums': [42, 42, 42, 42, 42, 42, 42]}\n",
      "\n",
      "Expected Output:\n",
      "[42, 42, 42, 42, 42, 42, 42]\n",
      "\n",
      "\n",
      "Actual Output:\n",
      "[42, 42, 42, 42, 42, 42, 42]\n",
      "\n",
      "Execution Time:\n",
      "0.031 ms\n",
      "\n",
      "Test Result:\n",
      "\u001b[92mPASSED\u001b[0m\n",
      "\n",
      "\n",
      "\u001b[1mTEST CASE #8\u001b[0m\n",
      "\n",
      "Input:\n",
      "{'nums': [4324, 1815, 1735, 80, 502, 1893, 8647, 8108, 8524, 6795, 2554, 4936, 5848, 1471, 9559, 411...\n",
      "\n",
      "Expected Output:\n",
      "[0, 1, 2, 3, 4, 5, 6, 7, 8, 9, 10, 11, 12, 13, 14, 15, 16, 17, 18, 19, 20, 21, 22, 23, 24, 25, 26, 2...\n",
      "\n",
      "\n",
      "Actual Output:\n",
      "[0, 1, 2, 3, 4, 5, 6, 7, 8, 9, 10, 11, 12, 13, 14, 15, 16, 17, 18, 19, 20, 21, 22, 23, 24, 25, 26, 2...\n",
      "\n",
      "Execution Time:\n",
      "12929.133 ms\n",
      "\n",
      "Test Result:\n",
      "\u001b[92mPASSED\u001b[0m\n",
      "\n",
      "\n",
      "\u001b[1mSUMMARY\u001b[0m\n",
      "\n",
      "TOTAL: 9, \u001b[92mPASSED\u001b[0m: 9, \u001b[91mFAILED\u001b[0m: 0\n"
     ]
    }
   ],
   "source": [
    "results = evaluate_test_cases(bubble_sort, tests)"
   ]
  },
  {
   "cell_type": "code",
   "execution_count": 22,
   "id": "509b4182",
   "metadata": {},
   "outputs": [],
   "source": [
    "# #Insertion Sort\n",
    "# Before we look at explore more efficient sorting techniques, here's another simple sorting technique called insertion sort\n",
    "#, where we keep the initial portion of the array sorted and insert the remaining elements one by one at the right position.\n",
    "\n"
   ]
  },
  {
   "cell_type": "code",
   "execution_count": 23,
   "id": "211a55b0",
   "metadata": {},
   "outputs": [],
   "source": [
    "def insertion_sort(nums):\n",
    "    nums = list(nums)\n",
    "    for i in range(len(nums)):\n",
    "        cur = nums.pop(i)\n",
    "        j = i-1\n",
    "        while j >=0 and nums[j] > cur:\n",
    "            j -= 1\n",
    "        nums.insert(j+1, cur)\n",
    "    return nums "
   ]
  },
  {
   "cell_type": "code",
   "execution_count": 24,
   "id": "c96f728b",
   "metadata": {},
   "outputs": [
    {
     "name": "stdout",
     "output_type": "stream",
     "text": [
      "Input: [4, 2, 6, 3, 4, 6, 2, 1]\n",
      "Expected output: [1, 2, 2, 3, 4, 4, 6, 6]\n",
      "Actual output: [1, 2, 2, 3, 4, 4, 6, 6]\n",
      "Match: True\n"
     ]
    }
   ],
   "source": [
    "nums0, output0 = test0['input']['nums'], test0['output']\n",
    "\n",
    "print('Input:', nums0)\n",
    "print('Expected output:', output0)\n",
    "result0 = insertion_sort(nums0)\n",
    "print('Actual output:', result0)\n",
    "print('Match:', result0 == output0)"
   ]
  },
  {
   "cell_type": "code",
   "execution_count": 25,
   "id": "466bb05d",
   "metadata": {},
   "outputs": [],
   "source": [
    "!pip install jovian --upgrade --quiet"
   ]
  },
  {
   "cell_type": "code",
   "execution_count": 26,
   "id": "c8fb2539",
   "metadata": {},
   "outputs": [],
   "source": [
    "import jovian"
   ]
  },
  {
   "cell_type": "code",
   "execution_count": 27,
   "id": "797eb171",
   "metadata": {},
   "outputs": [
    {
     "data": {
      "application/javascript": [
       "window.require && require([\"base/js/namespace\"],function(Jupyter){Jupyter.notebook.save_checkpoint()})"
      ],
      "text/plain": [
       "<IPython.core.display.Javascript object>"
      ]
     },
     "metadata": {},
     "output_type": "display_data"
    },
    {
     "name": "stdout",
     "output_type": "stream",
     "text": [
      "[jovian] Committed successfully! https://jovian.ai/punam333/learning-about-merge-sort-quicksort-and-divide-n-conquer-algorithms-in-python\r\n"
     ]
    },
    {
     "data": {
      "text/plain": [
       "'https://jovian.ai/punam333/learning-about-merge-sort-quicksort-and-divide-n-conquer-algorithms-in-python'"
      ]
     },
     "execution_count": 27,
     "metadata": {},
     "output_type": "execute_result"
    }
   ],
   "source": [
    "jovian.commit()"
   ]
  },
  {
   "cell_type": "code",
   "execution_count": 28,
   "id": "cb6bf8de",
   "metadata": {},
   "outputs": [],
   "source": [
    "#https://www.educative.io/api/edpresso/shot/5327356208087040/image/6475288173084672\n",
    "# so from the link we can go the flowchart which defines the problem solving in the effective way."
   ]
  },
  {
   "cell_type": "code",
   "execution_count": null,
   "id": "5eba0e59",
   "metadata": {},
   "outputs": [],
   "source": [
    "# Merge Sort\n",
    "# Following a visual representation of the divide and conquer applied for sorting numbers. This algorithm is known as merge sort:"
   ]
  },
  {
   "cell_type": "code",
   "execution_count": 29,
   "id": "b4d9ecf1",
   "metadata": {},
   "outputs": [
    {
     "ename": "SyntaxError",
     "evalue": "invalid syntax (<ipython-input-29-2954eecefb36>, line 1)",
     "output_type": "error",
     "traceback": [
      "\u001b[1;36m  File \u001b[1;32m\"<ipython-input-29-2954eecefb36>\"\u001b[1;36m, line \u001b[1;32m1\u001b[0m\n\u001b[1;33m    https://upload.wikimedia.org/wikipedia/commons/thumb/e/e6/Merge_sort_algorithm_diagram.svg/2560px-Merge_sort_algorithm_diagram.svg.png\u001b[0m\n\u001b[1;37m          ^\u001b[0m\n\u001b[1;31mSyntaxError\u001b[0m\u001b[1;31m:\u001b[0m invalid syntax\n"
     ]
    }
   ],
   "source": [
    "https://upload.wikimedia.org/wikipedia/commons/thumb/e/e6/Merge_sort_algorithm_diagram.svg/2560px-Merge_sort_algorithm_diagram.svg.png\n",
    "    \n",
    "    \n",
    "    "
   ]
  },
  {
   "cell_type": "code",
   "execution_count": null,
   "id": "c0754725",
   "metadata": {},
   "outputs": [],
   "source": [
    "#so above it contains the link for merge sort where we can easily understand merge sort."
   ]
  },
  {
   "cell_type": "code",
   "execution_count": 31,
   "id": "d9a090e1",
   "metadata": {},
   "outputs": [],
   "source": [
    "def merge_sort(nums):\n",
    "    # Terminating condition (list of 0 or 1 elements)\n",
    "    if len(nums) <= 1:\n",
    "        return nums\n",
    "    \n",
    "    # Get the midpoint\n",
    "    mid = len(nums) // 2\n",
    "    \n",
    "    # Split the list into two halves\n",
    "    left = nums[:mid]\n",
    "    right = nums[mid:]\n",
    "    \n",
    "    # Solve the problem for each half recursively\n",
    "    left_sorted, right_sorted = merge_sort(left), merge_sort(right)\n",
    "    \n",
    "    # Combine the results of the two halves\n",
    "    sorted_nums =  merge(left_sorted, right_sorted)\n",
    "    \n",
    "    return sorted_nums"
   ]
  },
  {
   "cell_type": "code",
   "execution_count": 32,
   "id": "af273fb7",
   "metadata": {},
   "outputs": [],
   "source": [
    "def merge(nums1, nums2):    \n",
    "    # List to store the results \n",
    "    merged = []\n",
    "    \n",
    "    # Indices for iteration\n",
    "    i, j = 0, 0\n",
    "    \n",
    "    # Loop over the two lists\n",
    "    while i < len(nums1) and j < len(nums2):        \n",
    "        \n",
    "        # Include the smaller element in the result and move to next element\n",
    "        if nums1[i] <= nums2[j]:\n",
    "            merged.append(nums1[i])\n",
    "            i += 1 \n",
    "        else:\n",
    "            merged.append(nums2[j])\n",
    "            j += 1\n",
    "    \n",
    "    # Get the remaining parts\n",
    "    nums1_tail = nums1[i:]\n",
    "    nums2_tail = nums2[j:]\n",
    "    \n",
    "    # Return the final merged array\n",
    "    return merged + nums1_tail + nums2_tail"
   ]
  },
  {
   "cell_type": "code",
   "execution_count": 34,
   "id": "746b0da2",
   "metadata": {},
   "outputs": [
    {
     "data": {
      "text/plain": [
       "[-1, 0, 1, 2, 3, 4, 7, 8, 9, 11, 12]"
      ]
     },
     "execution_count": 34,
     "metadata": {},
     "output_type": "execute_result"
    }
   ],
   "source": [
    "#lets merge the operation below\n",
    "merge([1, 4, 7, 9, 11], [-1, 0, 2, 3, 8, 12])"
   ]
  },
  {
   "cell_type": "code",
   "execution_count": 35,
   "id": "9eb447bf",
   "metadata": {},
   "outputs": [
    {
     "name": "stdout",
     "output_type": "stream",
     "text": [
      "Input: [4, 2, 6, 3, 4, 6, 2, 1]\n",
      "Expected output: [1, 2, 2, 3, 4, 4, 6, 6]\n",
      "Actual output: [1, 2, 2, 3, 4, 4, 6, 6]\n",
      "Match: True\n"
     ]
    }
   ],
   "source": [
    "nums0, output0 = test0['input']['nums'], test0['output']\n",
    "\n",
    "print('Input:', nums0)\n",
    "print('Expected output:', output0)\n",
    "result0 = merge_sort(nums0)\n",
    "print('Actual output:', result0)\n",
    "print('Match:', result0 == output0)"
   ]
  },
  {
   "cell_type": "code",
   "execution_count": 36,
   "id": "c97cae53",
   "metadata": {},
   "outputs": [
    {
     "name": "stdout",
     "output_type": "stream",
     "text": [
      "\n",
      "\u001b[1mTEST CASE #0\u001b[0m\n",
      "\n",
      "Input:\n",
      "{'nums': [4, 2, 6, 3, 4, 6, 2, 1]}\n",
      "\n",
      "Expected Output:\n",
      "[1, 2, 2, 3, 4, 4, 6, 6]\n",
      "\n",
      "\n",
      "Actual Output:\n",
      "[1, 2, 2, 3, 4, 4, 6, 6]\n",
      "\n",
      "Execution Time:\n",
      "0.055 ms\n",
      "\n",
      "Test Result:\n",
      "\u001b[92mPASSED\u001b[0m\n",
      "\n",
      "\n",
      "\u001b[1mTEST CASE #1\u001b[0m\n",
      "\n",
      "Input:\n",
      "{'nums': [5, 2, 6, 1, 23, 7, -12, 12, -243, 0]}\n",
      "\n",
      "Expected Output:\n",
      "[-243, -12, 0, 1, 2, 5, 6, 7, 12, 23]\n",
      "\n",
      "\n",
      "Actual Output:\n",
      "[-243, -12, 0, 1, 2, 5, 6, 7, 12, 23]\n",
      "\n",
      "Execution Time:\n",
      "0.063 ms\n",
      "\n",
      "Test Result:\n",
      "\u001b[92mPASSED\u001b[0m\n",
      "\n",
      "\n",
      "\u001b[1mTEST CASE #2\u001b[0m\n",
      "\n",
      "Input:\n",
      "{'nums': [3, 5, 6, 8, 9, 10, 99]}\n",
      "\n",
      "Expected Output:\n",
      "[3, 5, 6, 8, 9, 10, 99]\n",
      "\n",
      "\n",
      "Actual Output:\n",
      "[3, 5, 6, 8, 9, 10, 99]\n",
      "\n",
      "Execution Time:\n",
      "0.038 ms\n",
      "\n",
      "Test Result:\n",
      "\u001b[92mPASSED\u001b[0m\n",
      "\n",
      "\n",
      "\u001b[1mTEST CASE #3\u001b[0m\n",
      "\n",
      "Input:\n",
      "{'nums': [99, 10, 9, 8, 6, 5, 3]}\n",
      "\n",
      "Expected Output:\n",
      "[3, 5, 6, 8, 9, 10, 99]\n",
      "\n",
      "\n",
      "Actual Output:\n",
      "[3, 5, 6, 8, 9, 10, 99]\n",
      "\n",
      "Execution Time:\n",
      "0.044 ms\n",
      "\n",
      "Test Result:\n",
      "\u001b[92mPASSED\u001b[0m\n",
      "\n",
      "\n",
      "\u001b[1mTEST CASE #4\u001b[0m\n",
      "\n",
      "Input:\n",
      "{'nums': [5, -12, 2, 6, 1, 23, 7, 7, -12, 6, 12, 1, -243, 1, 0]}\n",
      "\n",
      "Expected Output:\n",
      "[-243, -12, -12, 0, 1, 1, 1, 2, 5, 6, 6, 7, 7, 12, 23]\n",
      "\n",
      "\n",
      "Actual Output:\n",
      "[-243, -12, -12, 0, 1, 1, 1, 2, 5, 6, 6, 7, 7, 12, 23]\n",
      "\n",
      "Execution Time:\n",
      "0.149 ms\n",
      "\n",
      "Test Result:\n",
      "\u001b[92mPASSED\u001b[0m\n",
      "\n",
      "\n",
      "\u001b[1mTEST CASE #5\u001b[0m\n",
      "\n",
      "Input:\n",
      "{'nums': []}\n",
      "\n",
      "Expected Output:\n",
      "[]\n",
      "\n",
      "\n",
      "Actual Output:\n",
      "[]\n",
      "\n",
      "Execution Time:\n",
      "0.007 ms\n",
      "\n",
      "Test Result:\n",
      "\u001b[92mPASSED\u001b[0m\n",
      "\n",
      "\n",
      "\u001b[1mTEST CASE #6\u001b[0m\n",
      "\n",
      "Input:\n",
      "{'nums': [23]}\n",
      "\n",
      "Expected Output:\n",
      "[23]\n",
      "\n",
      "\n",
      "Actual Output:\n",
      "[23]\n",
      "\n",
      "Execution Time:\n",
      "0.006 ms\n",
      "\n",
      "Test Result:\n",
      "\u001b[92mPASSED\u001b[0m\n",
      "\n",
      "\n",
      "\u001b[1mTEST CASE #7\u001b[0m\n",
      "\n",
      "Input:\n",
      "{'nums': [42, 42, 42, 42, 42, 42, 42]}\n",
      "\n",
      "Expected Output:\n",
      "[42, 42, 42, 42, 42, 42, 42]\n",
      "\n",
      "\n",
      "Actual Output:\n",
      "[42, 42, 42, 42, 42, 42, 42]\n",
      "\n",
      "Execution Time:\n",
      "0.065 ms\n",
      "\n",
      "Test Result:\n",
      "\u001b[92mPASSED\u001b[0m\n",
      "\n",
      "\n",
      "\u001b[1mTEST CASE #8\u001b[0m\n",
      "\n",
      "Input:\n",
      "{'nums': [4324, 1815, 1735, 80, 502, 1893, 8647, 8108, 8524, 6795, 2554, 4936, 5848, 1471, 9559, 411...\n",
      "\n",
      "Expected Output:\n",
      "[0, 1, 2, 3, 4, 5, 6, 7, 8, 9, 10, 11, 12, 13, 14, 15, 16, 17, 18, 19, 20, 21, 22, 23, 24, 25, 26, 2...\n",
      "\n",
      "\n",
      "Actual Output:\n",
      "[0, 1, 2, 3, 4, 5, 6, 7, 8, 9, 10, 11, 12, 13, 14, 15, 16, 17, 18, 19, 20, 21, 22, 23, 24, 25, 26, 2...\n",
      "\n",
      "Execution Time:\n",
      "76.073 ms\n",
      "\n",
      "Test Result:\n",
      "\u001b[92mPASSED\u001b[0m\n",
      "\n",
      "\n",
      "\u001b[1mSUMMARY\u001b[0m\n",
      "\n",
      "TOTAL: 9, \u001b[92mPASSED\u001b[0m: 9, \u001b[91mFAILED\u001b[0m: 0\n"
     ]
    }
   ],
   "source": [
    "results = evaluate_test_cases(merge_sort, tests)"
   ]
  },
  {
   "cell_type": "code",
   "execution_count": 37,
   "id": "8b948c59",
   "metadata": {},
   "outputs": [
    {
     "data": {
      "application/javascript": [
       "window.require && require([\"base/js/namespace\"],function(Jupyter){Jupyter.notebook.save_checkpoint()})"
      ],
      "text/plain": [
       "<IPython.core.display.Javascript object>"
      ]
     },
     "metadata": {},
     "output_type": "display_data"
    },
    {
     "name": "stdout",
     "output_type": "stream",
     "text": [
      "[jovian] Updating notebook \"punam333/learning-about-merge-sort-quicksort-and-divide-n-conquer-algorithms-in-python\" on https://jovian.ai/\n",
      "[jovian] Committed successfully! https://jovian.ai/punam333/learning-about-merge-sort-quicksort-and-divide-n-conquer-algorithms-in-python\n"
     ]
    },
    {
     "data": {
      "text/plain": [
       "'https://jovian.ai/punam333/learning-about-merge-sort-quicksort-and-divide-n-conquer-algorithms-in-python'"
      ]
     },
     "execution_count": 37,
     "metadata": {},
     "output_type": "execute_result"
    }
   ],
   "source": [
    "jovian.commit()"
   ]
  },
  {
   "cell_type": "code",
   "execution_count": 38,
   "id": "073ab028",
   "metadata": {},
   "outputs": [],
   "source": [
    "def merge(nums1, nums2, depth=0):\n",
    "    print('  '*depth, 'merge:', nums1, nums2)\n",
    "    i, j, merged = 0, 0, []\n",
    "    while i < len(nums1) and j < len(nums2):\n",
    "        if nums1[i] <= nums2[j]:\n",
    "            merged.append(nums1[i])\n",
    "            i += 1\n",
    "        else:\n",
    "            merged.append(nums2[j])\n",
    "            j += 1\n",
    "    return merged + nums1[i:] + nums2[j:]\n",
    "        \n",
    "def merge_sort(nums, depth=0):\n",
    "    print('  '*depth, 'merge_sort:', nums)\n",
    "    if len(nums) < 2: \n",
    "        return nums\n",
    "    mid = len(nums) // 2\n",
    "    return merge(merge_sort(nums[:mid], depth+1), \n",
    "                 merge_sort(nums[mid:], depth+1), \n",
    "                 depth+1)"
   ]
  },
  {
   "cell_type": "code",
   "execution_count": 39,
   "id": "f8f6c01d",
   "metadata": {},
   "outputs": [
    {
     "name": "stdout",
     "output_type": "stream",
     "text": [
      " merge_sort: [5, -12, 2, 6, 1, 23, 7, 7, -12]\n",
      "   merge_sort: [5, -12, 2, 6]\n",
      "     merge_sort: [5, -12]\n",
      "       merge_sort: [5]\n",
      "       merge_sort: [-12]\n",
      "       merge: [5] [-12]\n",
      "     merge_sort: [2, 6]\n",
      "       merge_sort: [2]\n",
      "       merge_sort: [6]\n",
      "       merge: [2] [6]\n",
      "     merge: [-12, 5] [2, 6]\n",
      "   merge_sort: [1, 23, 7, 7, -12]\n",
      "     merge_sort: [1, 23]\n",
      "       merge_sort: [1]\n",
      "       merge_sort: [23]\n",
      "       merge: [1] [23]\n",
      "     merge_sort: [7, 7, -12]\n",
      "       merge_sort: [7]\n",
      "       merge_sort: [7, -12]\n",
      "         merge_sort: [7]\n",
      "         merge_sort: [-12]\n",
      "         merge: [7] [-12]\n",
      "       merge: [7] [-12, 7]\n",
      "     merge: [1, 23] [-12, 7, 7]\n",
      "   merge: [-12, 2, 5, 6] [-12, 1, 7, 7, 23]\n"
     ]
    },
    {
     "data": {
      "text/plain": [
       "[-12, -12, 1, 2, 5, 6, 7, 7, 23]"
      ]
     },
     "execution_count": 39,
     "metadata": {},
     "output_type": "execute_result"
    }
   ],
   "source": [
    "merge_sort([5, -12, 2, 6, 1, 23, 7, 7, -12])"
   ]
  },
  {
   "cell_type": "code",
   "execution_count": 40,
   "id": "f11497df",
   "metadata": {},
   "outputs": [
    {
     "data": {
      "application/javascript": [
       "window.require && require([\"base/js/namespace\"],function(Jupyter){Jupyter.notebook.save_checkpoint()})"
      ],
      "text/plain": [
       "<IPython.core.display.Javascript object>"
      ]
     },
     "metadata": {},
     "output_type": "display_data"
    },
    {
     "name": "stdout",
     "output_type": "stream",
     "text": [
      "[jovian] Updating notebook \"punam333/learning-about-merge-sort-quicksort-and-divide-n-conquer-algorithms-in-python\" on https://jovian.ai/\n",
      "[jovian] Committed successfully! https://jovian.ai/punam333/learning-about-merge-sort-quicksort-and-divide-n-conquer-algorithms-in-python\n"
     ]
    },
    {
     "data": {
      "text/plain": [
       "'https://jovian.ai/punam333/learning-about-merge-sort-quicksort-and-divide-n-conquer-algorithms-in-python'"
      ]
     },
     "execution_count": 40,
     "metadata": {},
     "output_type": "execute_result"
    }
   ],
   "source": [
    "jovian.commit()"
   ]
  },
  {
   "cell_type": "code",
   "execution_count": null,
   "id": "43650db8",
   "metadata": {},
   "outputs": [],
   "source": [
    "def quicksort(nums, start=0, end=None):\n",
    "    # print('quicksort', nums, start, end)\n",
    "    if end is None:\n",
    "        nums = list(nums)\n",
    "        end = len(nums) - 1\n",
    "    \n",
    "    if start < end:\n",
    "        pivot = partition(nums, start, end)\n",
    "        quicksort(nums, start, pivot-1)\n",
    "        quicksort(nums, pivot+1, end)\n",
    "\n",
    "    return nums"
   ]
  },
  {
   "cell_type": "code",
   "execution_count": null,
   "id": "438d5ff1",
   "metadata": {},
   "outputs": [],
   "source": [
    "https://i.imgur.com/Igk7Kr4.png"
   ]
  },
  {
   "cell_type": "code",
   "execution_count": 41,
   "id": "e59305c2",
   "metadata": {},
   "outputs": [],
   "source": [
    "def partition(nums, start=0, end=None):\n",
    "    # print('partition', nums, start, end)\n",
    "    if end is None:\n",
    "        end = len(nums) - 1\n",
    "    \n",
    "    # Initialize right and left pointers\n",
    "    l, r = start, end-1\n",
    "    \n",
    "    # Iterate while they're apart\n",
    "    while r > l:\n",
    "        # print('  ', nums, l, r)\n",
    "        # Increment left pointer if number is less or equal to pivot\n",
    "        if nums[l] <= nums[end]:\n",
    "            l += 1\n",
    "        \n",
    "        # Decrement right pointer if number is greater than pivot\n",
    "        elif nums[r] > nums[end]:\n",
    "            r -= 1\n",
    "        \n",
    "        # Two out-of-place elements found, swap them\n",
    "        else:\n",
    "            nums[l], nums[r] = nums[r], nums[l]\n",
    "    # print('  ', nums, l, r)\n",
    "    # Place the pivot between the two parts\n",
    "    if nums[l] > nums[end]:\n",
    "        nums[l], nums[end] = nums[end], nums[l]\n",
    "        return l\n",
    "    else:\n",
    "        return end"
   ]
  },
  {
   "cell_type": "code",
   "execution_count": 42,
   "id": "630591ad",
   "metadata": {},
   "outputs": [
    {
     "name": "stdout",
     "output_type": "stream",
     "text": [
      "[1, 0, 2, 3, 5, 11, 6] 3\n"
     ]
    }
   ],
   "source": [
    "l1 = [1, 5, 6, 2, 0, 11, 3]\n",
    "pivot = partition(l1)\n",
    "print(l1, pivot)"
   ]
  },
  {
   "cell_type": "code",
   "execution_count": 43,
   "id": "751c4f3f",
   "metadata": {},
   "outputs": [
    {
     "name": "stdout",
     "output_type": "stream",
     "text": [
      "Input: [4, 2, 6, 3, 4, 6, 2, 1]\n",
      "Expected output: [1, 2, 2, 3, 4, 4, 6, 6]\n"
     ]
    },
    {
     "ename": "NameError",
     "evalue": "name 'quicksort' is not defined",
     "output_type": "error",
     "traceback": [
      "\u001b[1;31m---------------------------------------------------------------------------\u001b[0m",
      "\u001b[1;31mNameError\u001b[0m                                 Traceback (most recent call last)",
      "\u001b[1;32m<ipython-input-43-727bff32f7b3>\u001b[0m in \u001b[0;36m<module>\u001b[1;34m\u001b[0m\n\u001b[0;32m      3\u001b[0m \u001b[0mprint\u001b[0m\u001b[1;33m(\u001b[0m\u001b[1;34m'Input:'\u001b[0m\u001b[1;33m,\u001b[0m \u001b[0mnums0\u001b[0m\u001b[1;33m)\u001b[0m\u001b[1;33m\u001b[0m\u001b[1;33m\u001b[0m\u001b[0m\n\u001b[0;32m      4\u001b[0m \u001b[0mprint\u001b[0m\u001b[1;33m(\u001b[0m\u001b[1;34m'Expected output:'\u001b[0m\u001b[1;33m,\u001b[0m \u001b[0moutput0\u001b[0m\u001b[1;33m)\u001b[0m\u001b[1;33m\u001b[0m\u001b[1;33m\u001b[0m\u001b[0m\n\u001b[1;32m----> 5\u001b[1;33m \u001b[0mresult0\u001b[0m \u001b[1;33m=\u001b[0m \u001b[0mquicksort\u001b[0m\u001b[1;33m(\u001b[0m\u001b[0mnums0\u001b[0m\u001b[1;33m)\u001b[0m\u001b[1;33m\u001b[0m\u001b[1;33m\u001b[0m\u001b[0m\n\u001b[0m\u001b[0;32m      6\u001b[0m \u001b[0mprint\u001b[0m\u001b[1;33m(\u001b[0m\u001b[1;34m'Actual output:'\u001b[0m\u001b[1;33m,\u001b[0m \u001b[0mresult0\u001b[0m\u001b[1;33m)\u001b[0m\u001b[1;33m\u001b[0m\u001b[1;33m\u001b[0m\u001b[0m\n\u001b[0;32m      7\u001b[0m \u001b[0mprint\u001b[0m\u001b[1;33m(\u001b[0m\u001b[1;34m'Match:'\u001b[0m\u001b[1;33m,\u001b[0m \u001b[0mresult0\u001b[0m \u001b[1;33m==\u001b[0m \u001b[0moutput0\u001b[0m\u001b[1;33m)\u001b[0m\u001b[1;33m\u001b[0m\u001b[1;33m\u001b[0m\u001b[0m\n",
      "\u001b[1;31mNameError\u001b[0m: name 'quicksort' is not defined"
     ]
    }
   ],
   "source": [
    "nums0, output0 = test0['input']['nums'], test0['output']\n",
    "\n",
    "print('Input:', nums0)\n",
    "print('Expected output:', output0)\n",
    "result0 = quicksort(nums0)\n",
    "print('Actual output:', result0)\n",
    "print('Match:', result0 == output0)"
   ]
  },
  {
   "cell_type": "code",
   "execution_count": 44,
   "id": "15e4cc81",
   "metadata": {},
   "outputs": [
    {
     "ename": "NameError",
     "evalue": "name 'quicksort' is not defined",
     "output_type": "error",
     "traceback": [
      "\u001b[1;31m---------------------------------------------------------------------------\u001b[0m",
      "\u001b[1;31mNameError\u001b[0m                                 Traceback (most recent call last)",
      "\u001b[1;32m<ipython-input-44-fb70a7a246fc>\u001b[0m in \u001b[0;36m<module>\u001b[1;34m\u001b[0m\n\u001b[0;32m      1\u001b[0m \u001b[1;32mfrom\u001b[0m \u001b[0mjovian\u001b[0m\u001b[1;33m.\u001b[0m\u001b[0mpythondsa\u001b[0m \u001b[1;32mimport\u001b[0m \u001b[0mevaluate_test_cases\u001b[0m\u001b[1;33m\u001b[0m\u001b[1;33m\u001b[0m\u001b[0m\n\u001b[0;32m      2\u001b[0m \u001b[1;33m\u001b[0m\u001b[0m\n\u001b[1;32m----> 3\u001b[1;33m \u001b[0mresults\u001b[0m \u001b[1;33m=\u001b[0m \u001b[0mevaluate_test_cases\u001b[0m\u001b[1;33m(\u001b[0m\u001b[0mquicksort\u001b[0m\u001b[1;33m,\u001b[0m \u001b[0mtests\u001b[0m\u001b[1;33m)\u001b[0m\u001b[1;33m\u001b[0m\u001b[1;33m\u001b[0m\u001b[0m\n\u001b[0m",
      "\u001b[1;31mNameError\u001b[0m: name 'quicksort' is not defined"
     ]
    }
   ],
   "source": [
    "from jovian.pythondsa import evaluate_test_cases\n",
    "\n",
    "results = evaluate_test_cases(quicksort, tests)"
   ]
  },
  {
   "cell_type": "code",
   "execution_count": 45,
   "id": "8cf2f538",
   "metadata": {},
   "outputs": [],
   "source": [
    "class Notebook:\n",
    "    def __init__(self, title, username, likes):\n",
    "        self.title, self.username, self.likes = title, username, likes\n",
    "        \n",
    "    def __repr__(self):\n",
    "        return 'Notebook <\"{}/{}\", {} likes>'.format(self.username, self.title, self.likes)"
   ]
  },
  {
   "cell_type": "code",
   "execution_count": 46,
   "id": "4774bc64",
   "metadata": {},
   "outputs": [],
   "source": [
    "nb0 = Notebook('pytorch-basics', 'aakashns', 373)\n",
    "nb1 = Notebook('linear-regression', 'siddhant', 532)\n",
    "nb2 = Notebook('logistic-regression', 'vikas', 31)\n",
    "nb3 = Notebook('feedforward-nn', 'sonaksh', 94)\n",
    "nb4 = Notebook('cifar10-cnn', 'biraj', 2)\n",
    "nb5 = Notebook('cifar10-resnet', 'tanya', 29)\n",
    "nb6 = Notebook('anime-gans', 'hemanth', 80)\n",
    "nb7 = Notebook('python-fundamentals', 'vishal', 136)\n",
    "nb8 = Notebook('python-functions', 'aakashns', 74)\n",
    "nb9 = Notebook('python-numpy', 'siddhant', 92)"
   ]
  },
  {
   "cell_type": "code",
   "execution_count": 47,
   "id": "3613b836",
   "metadata": {},
   "outputs": [],
   "source": [
    "notebooks = [nb0, nb1, nb2, nb3, nb4, nb5,nb6, nb7, nb8, nb9]"
   ]
  },
  {
   "cell_type": "code",
   "execution_count": 48,
   "id": "4d43c608",
   "metadata": {},
   "outputs": [
    {
     "data": {
      "text/plain": [
       "[Notebook <\"aakashns/pytorch-basics\", 373 likes>,\n",
       " Notebook <\"siddhant/linear-regression\", 532 likes>,\n",
       " Notebook <\"vikas/logistic-regression\", 31 likes>,\n",
       " Notebook <\"sonaksh/feedforward-nn\", 94 likes>,\n",
       " Notebook <\"biraj/cifar10-cnn\", 2 likes>,\n",
       " Notebook <\"tanya/cifar10-resnet\", 29 likes>,\n",
       " Notebook <\"hemanth/anime-gans\", 80 likes>,\n",
       " Notebook <\"vishal/python-fundamentals\", 136 likes>,\n",
       " Notebook <\"aakashns/python-functions\", 74 likes>,\n",
       " Notebook <\"siddhant/python-numpy\", 92 likes>]"
      ]
     },
     "execution_count": 48,
     "metadata": {},
     "output_type": "execute_result"
    }
   ],
   "source": [
    "notebooks"
   ]
  },
  {
   "cell_type": "code",
   "execution_count": 49,
   "id": "d46798e4",
   "metadata": {},
   "outputs": [],
   "source": [
    "def compare_likes(nb1, nb2):\n",
    "    if nb1.likes > nb2.likes:\n",
    "        return 'lesser'\n",
    "    elif nb1.likes == nb2.likes:\n",
    "        return 'equal'\n",
    "    elif nb1.likes < nb2.likes:\n",
    "        return 'greater'"
   ]
  },
  {
   "cell_type": "code",
   "execution_count": 50,
   "id": "a2014d67",
   "metadata": {},
   "outputs": [],
   "source": [
    "def default_compare(x, y):\n",
    "    if x < y:\n",
    "        return 'less'\n",
    "    elif x == y:\n",
    "        return 'equal'\n",
    "    else:\n",
    "        return 'greater'\n",
    "\n",
    "def merge_sort(objs, compare=default_compare):\n",
    "    if len(objs) < 2:\n",
    "        return objs\n",
    "    mid = len(objs) // 2\n",
    "    return merge(merge_sort(objs[:mid], compare), \n",
    "                 merge_sort(objs[mid:], compare), \n",
    "                 compare)\n",
    "\n",
    "def merge(left, right, compare):\n",
    "    i, j, merged = 0, 0, []\n",
    "    while i < len(left) and j < len(right):\n",
    "        result = compare(left[i], right[j])\n",
    "        if result == 'lesser' or result == 'equal':\n",
    "            merged.append(left[i])\n",
    "            i += 1\n",
    "        else:\n",
    "            merged.append(right[j])\n",
    "            j += 1\n",
    "    return merged + left[i:] + right[j:]"
   ]
  },
  {
   "cell_type": "code",
   "execution_count": 51,
   "id": "1fcb5da4",
   "metadata": {},
   "outputs": [],
   "source": [
    "sorted_notebooks = merge_sort(notebooks, compare_likes)"
   ]
  },
  {
   "cell_type": "code",
   "execution_count": 52,
   "id": "9f7c1f99",
   "metadata": {},
   "outputs": [
    {
     "data": {
      "text/plain": [
       "[Notebook <\"siddhant/linear-regression\", 532 likes>,\n",
       " Notebook <\"aakashns/pytorch-basics\", 373 likes>,\n",
       " Notebook <\"vishal/python-fundamentals\", 136 likes>,\n",
       " Notebook <\"sonaksh/feedforward-nn\", 94 likes>,\n",
       " Notebook <\"siddhant/python-numpy\", 92 likes>,\n",
       " Notebook <\"hemanth/anime-gans\", 80 likes>,\n",
       " Notebook <\"aakashns/python-functions\", 74 likes>,\n",
       " Notebook <\"vikas/logistic-regression\", 31 likes>,\n",
       " Notebook <\"tanya/cifar10-resnet\", 29 likes>,\n",
       " Notebook <\"biraj/cifar10-cnn\", 2 likes>]"
      ]
     },
     "execution_count": 52,
     "metadata": {},
     "output_type": "execute_result"
    }
   ],
   "source": [
    "sorted_notebooks"
   ]
  },
  {
   "cell_type": "code",
   "execution_count": 53,
   "id": "3e6ed605",
   "metadata": {},
   "outputs": [],
   "source": [
    "def compare_titles(nb1, nb2):\n",
    "    if nb1.title < nb2.title:\n",
    "        return 'lesser'\n",
    "    elif nb1.title == nb2.title:\n",
    "        return 'equal'\n",
    "    elif nb1.title > nb2.title:\n",
    "        return 'greater'"
   ]
  },
  {
   "cell_type": "code",
   "execution_count": 54,
   "id": "f352df1f",
   "metadata": {},
   "outputs": [
    {
     "data": {
      "text/plain": [
       "[Notebook <\"hemanth/anime-gans\", 80 likes>,\n",
       " Notebook <\"biraj/cifar10-cnn\", 2 likes>,\n",
       " Notebook <\"tanya/cifar10-resnet\", 29 likes>,\n",
       " Notebook <\"sonaksh/feedforward-nn\", 94 likes>,\n",
       " Notebook <\"siddhant/linear-regression\", 532 likes>,\n",
       " Notebook <\"vikas/logistic-regression\", 31 likes>,\n",
       " Notebook <\"aakashns/python-functions\", 74 likes>,\n",
       " Notebook <\"vishal/python-fundamentals\", 136 likes>,\n",
       " Notebook <\"siddhant/python-numpy\", 92 likes>,\n",
       " Notebook <\"aakashns/pytorch-basics\", 373 likes>]"
      ]
     },
     "execution_count": 54,
     "metadata": {},
     "output_type": "execute_result"
    }
   ],
   "source": [
    "merge_sort(notebooks, compare_titles)"
   ]
  },
  {
   "cell_type": "code",
   "execution_count": 55,
   "id": "266dce2f",
   "metadata": {},
   "outputs": [
    {
     "data": {
      "application/javascript": [
       "window.require && require([\"base/js/namespace\"],function(Jupyter){Jupyter.notebook.save_checkpoint()})"
      ],
      "text/plain": [
       "<IPython.core.display.Javascript object>"
      ]
     },
     "metadata": {},
     "output_type": "display_data"
    },
    {
     "name": "stdout",
     "output_type": "stream",
     "text": [
      "[jovian] Updating notebook \"punam333/learning-about-merge-sort-quicksort-and-divide-n-conquer-algorithms-in-python\" on https://jovian.ai/\n",
      "[jovian] Committed successfully! https://jovian.ai/punam333/learning-about-merge-sort-quicksort-and-divide-n-conquer-algorithms-in-python\n"
     ]
    },
    {
     "data": {
      "text/plain": [
       "'https://jovian.ai/punam333/learning-about-merge-sort-quicksort-and-divide-n-conquer-algorithms-in-python'"
      ]
     },
     "execution_count": 55,
     "metadata": {},
     "output_type": "execute_result"
    }
   ],
   "source": [
    "jovian.commit()"
   ]
  },
  {
   "cell_type": "code",
   "execution_count": null,
   "id": "372f275d",
   "metadata": {},
   "outputs": [],
   "source": []
  }
 ],
 "metadata": {
  "kernelspec": {
   "display_name": "Python 3",
   "language": "python",
   "name": "python3"
  },
  "language_info": {
   "codemirror_mode": {
    "name": "ipython",
    "version": 3
   },
   "file_extension": ".py",
   "mimetype": "text/x-python",
   "name": "python",
   "nbconvert_exporter": "python",
   "pygments_lexer": "ipython3",
   "version": "3.8.8"
  }
 },
 "nbformat": 4,
 "nbformat_minor": 5
}
