{
 "cells": [
  {
   "cell_type": "code",
   "execution_count": 1,
   "id": "3cf27e37",
   "metadata": {},
   "outputs": [],
   "source": [
    "#so here we will learn about recursion and dynamic programming in python programming through data structures and algorithm"
   ]
  },
  {
   "cell_type": "code",
   "execution_count": 2,
   "id": "ba76dff7",
   "metadata": {},
   "outputs": [],
   "source": [
    "# A \"sequence\" is a group of items with a deterministic ordering. Lists, \n",
    "# tuples and ranges are some common sequence types in Python."
   ]
  },
  {
   "cell_type": "code",
   "execution_count": 3,
   "id": "f655481b",
   "metadata": {},
   "outputs": [],
   "source": [
    "# A \"subsequence\" is a sequence obtained by deleting zero or more elements from another sequence. \n",
    "# For example, \"edpt\" is a subsequence of \"serendipitous\"."
   ]
  },
  {
   "cell_type": "code",
   "execution_count": 4,
   "id": "5d9172e3",
   "metadata": {},
   "outputs": [],
   "source": [
    "T0 = {\n",
    "    'input': {\n",
    "        'seq1': 'serendipitous',\n",
    "        'seq2': 'precipitation'\n",
    "    },\n",
    "    'output': 7\n",
    "}\n",
    "\n",
    "T1 = {\n",
    "    'input': {\n",
    "        'seq1': [1, 3, 5, 6, 7, 2, 5, 2, 3],\n",
    "        'seq2': [6, 2, 4, 7, 1, 5, 6, 2, 3]\n",
    "    },\n",
    "    'output': 5\n",
    "}\n",
    "\n",
    "T2 = {\n",
    "    'input': {\n",
    "        'seq1': 'longest',\n",
    "        'seq2': 'stone'\n",
    "    },\n",
    "    'output': 3\n",
    "}\n",
    "\n",
    "T3 = {\n",
    "    'input': {\n",
    "        'seq1': 'asdfwevad',\n",
    "        'seq2': 'opkpoiklklj'\n",
    "    },\n",
    "    'output': 0\n",
    "}\n",
    "\n",
    "T4 = {\n",
    "    'input': {\n",
    "        'seq1': 'dense',\n",
    "        'seq2': 'condensed'\n",
    "    },\n",
    "    'output': 5\n",
    "}\n",
    "\n",
    "T5 = {\n",
    "    'input': {\n",
    "        'seq1': '',\n",
    "        'seq2': 'opkpoiklklj'\n",
    "    },\n",
    "    'output': 0\n",
    "}\n",
    "\n",
    "T6 = {\n",
    "    'input': {\n",
    "        'seq1': '',\n",
    "        'seq2': ''\n",
    "    },\n",
    "    'output': 0\n",
    "}\n",
    "\n",
    "T7 = {\n",
    "    'input': {\n",
    "        'seq1': 'abcdef',\n",
    "        'seq2': 'badcfe'\n",
    "    },\n",
    "    'output': 3\n",
    "}\n"
   ]
  },
  {
   "cell_type": "code",
   "execution_count": 5,
   "id": "bd2522f8",
   "metadata": {},
   "outputs": [],
   "source": [
    "lcq_tests = [T0, T1, T2, T3, T4, T5, T6, T7]\n",
    " "
   ]
  },
  {
   "cell_type": "code",
   "execution_count": 6,
   "id": "ca03902b",
   "metadata": {},
   "outputs": [],
   "source": [
    "test0 = {\n",
    "    'input': {\n",
    "        'capacity': 165,\n",
    "        'weights': [23, 31, 29, 44, 53, 38, 63, 85, 89, 82],\n",
    "        'profits': [92, 57, 49, 68, 60, 43, 67, 84, 87, 72]\n",
    "    },\n",
    "    'output': 309\n",
    "}\n",
    "\n",
    "test1 = {\n",
    "    'input': {\n",
    "        'capacity': 3,\n",
    "        'weights': [4, 5, 6],\n",
    "        'profits': [1, 2, 3]\n",
    "    },\n",
    "    'output': 0\n",
    "}\n",
    "\n",
    "test2 = {\n",
    "    'input': {\n",
    "        'capacity': 4,\n",
    "        'weights': [4, 5, 1],\n",
    "        'profits': [1, 2, 3]\n",
    "    },\n",
    "    'output': 3\n",
    "}\n",
    "\n",
    "test3 = {\n",
    "    'input': {\n",
    "        'capacity': 170,\n",
    "        'weights': [41, 50, 49, 59, 55, 57, 60],\n",
    "        'profits': [442, 525, 511, 593, 546, 564, 617]\n",
    "    },\n",
    "    'output': 1735\n",
    "}\n",
    "\n",
    "test4 = {\n",
    "    'input': {\n",
    "        'capacity': 15,\n",
    "        'weights': [4, 5, 6],\n",
    "        'profits': [1, 2, 3]\n",
    "    },\n",
    "    'output': 6\n",
    "}\n",
    "\n",
    "test5 = {\n",
    "    'input': {\n",
    "        'capacity': 15,\n",
    "        'weights': [4, 5, 1, 3, 2, 5],\n",
    "        'profits': [2, 3, 1, 5, 4, 7]\n",
    "    },\n",
    "    'output': 19\n",
    "}"
   ]
  },
  {
   "cell_type": "code",
   "execution_count": 7,
   "id": "74424a0a",
   "metadata": {},
   "outputs": [],
   "source": [
    "tests = [test0, test1, test2, test3, test4, test5]"
   ]
  },
  {
   "cell_type": "code",
   "execution_count": 8,
   "id": "83d1b049",
   "metadata": {},
   "outputs": [],
   "source": [
    "def lcq_recursive(seq1, seq2, idx1=0, idx2=0):\n",
    "    # Check if either of the sequences is exhausted\n",
    "    if idx1 == len(seq1) or idx2 == len(seq2):\n",
    "        return 0\n",
    "    \n",
    "    # Check if the current characters are equal\n",
    "    if seq1[idx1] == seq2[idx2]:\n",
    "        return 1 + lcq_recursive(seq1, seq2, idx1+1, idx2+1)\n",
    "    # Skip one element from each sequence\n",
    "    else:\n",
    "        return max(lcq_recursive(seq1, seq2, idx1+1, idx2), \n",
    "                   lcq_recursive(seq1, seq2, idx1, idx2+1))    "
   ]
  },
  {
   "cell_type": "code",
   "execution_count": 9,
   "id": "192d179d",
   "metadata": {},
   "outputs": [],
   "source": [
    "from jovian.pythondsa import evaluate_test_cases"
   ]
  },
  {
   "cell_type": "code",
   "execution_count": 10,
   "id": "ececd831",
   "metadata": {},
   "outputs": [
    {
     "name": "stdout",
     "output_type": "stream",
     "text": [
      "\n",
      "\u001b[1mTEST CASE #0\u001b[0m\n",
      "\n",
      "Input:\n",
      "{'seq1': 'serendipitous', 'seq2': 'precipitation'}\n",
      "\n",
      "Expected Output:\n",
      "7\n",
      "\n",
      "\n",
      "Actual Output:\n",
      "7\n",
      "\n",
      "Execution Time:\n",
      "436.706 ms\n",
      "\n",
      "Test Result:\n",
      "\u001b[92mPASSED\u001b[0m\n",
      "\n",
      "\n",
      "\u001b[1mTEST CASE #1\u001b[0m\n",
      "\n",
      "Input:\n",
      "{'seq1': [1, 3, 5, 6, 7, 2, 5, 2, 3], 'seq2': [6, 2, 4, 7, 1, 5, 6, 2, 3]}\n",
      "\n",
      "Expected Output:\n",
      "5\n",
      "\n",
      "\n",
      "Actual Output:\n",
      "5\n",
      "\n",
      "Execution Time:\n",
      "4.658 ms\n",
      "\n",
      "Test Result:\n",
      "\u001b[92mPASSED\u001b[0m\n",
      "\n",
      "\n",
      "\u001b[1mTEST CASE #2\u001b[0m\n",
      "\n",
      "Input:\n",
      "{'seq1': 'longest', 'seq2': 'stone'}\n",
      "\n",
      "Expected Output:\n",
      "3\n",
      "\n",
      "\n",
      "Actual Output:\n",
      "3\n",
      "\n",
      "Execution Time:\n",
      "0.21 ms\n",
      "\n",
      "Test Result:\n",
      "\u001b[92mPASSED\u001b[0m\n",
      "\n",
      "\n",
      "\u001b[1mTEST CASE #3\u001b[0m\n",
      "\n",
      "Input:\n",
      "{'seq1': 'asdfwevad', 'seq2': 'opkpoiklklj'}\n",
      "\n",
      "Expected Output:\n",
      "0\n",
      "\n",
      "\n",
      "Actual Output:\n",
      "0\n",
      "\n",
      "Execution Time:\n",
      "98.782 ms\n",
      "\n",
      "Test Result:\n",
      "\u001b[92mPASSED\u001b[0m\n",
      "\n",
      "\n",
      "\u001b[1mTEST CASE #4\u001b[0m\n",
      "\n",
      "Input:\n",
      "{'seq1': 'dense', 'seq2': 'condensed'}\n",
      "\n",
      "Expected Output:\n",
      "5\n",
      "\n",
      "\n",
      "Actual Output:\n",
      "5\n",
      "\n",
      "Execution Time:\n",
      "0.115 ms\n",
      "\n",
      "Test Result:\n",
      "\u001b[92mPASSED\u001b[0m\n",
      "\n",
      "\n",
      "\u001b[1mTEST CASE #5\u001b[0m\n",
      "\n",
      "Input:\n",
      "{'seq1': '', 'seq2': 'opkpoiklklj'}\n",
      "\n",
      "Expected Output:\n",
      "0\n",
      "\n",
      "\n",
      "Actual Output:\n",
      "0\n",
      "\n",
      "Execution Time:\n",
      "0.001 ms\n",
      "\n",
      "Test Result:\n",
      "\u001b[92mPASSED\u001b[0m\n",
      "\n",
      "\n",
      "\u001b[1mTEST CASE #6\u001b[0m\n",
      "\n",
      "Input:\n",
      "{'seq1': '', 'seq2': ''}\n",
      "\n",
      "Expected Output:\n",
      "0\n",
      "\n",
      "\n",
      "Actual Output:\n",
      "0\n",
      "\n",
      "Execution Time:\n",
      "0.001 ms\n",
      "\n",
      "Test Result:\n",
      "\u001b[92mPASSED\u001b[0m\n",
      "\n",
      "\n",
      "\u001b[1mTEST CASE #7\u001b[0m\n",
      "\n",
      "Input:\n",
      "{'seq1': 'abcdef', 'seq2': 'badcfe'}\n",
      "\n",
      "Expected Output:\n",
      "3\n",
      "\n",
      "\n",
      "Actual Output:\n",
      "3\n",
      "\n",
      "Execution Time:\n",
      "0.036 ms\n",
      "\n",
      "Test Result:\n",
      "\u001b[92mPASSED\u001b[0m\n",
      "\n",
      "\n",
      "\u001b[1mSUMMARY\u001b[0m\n",
      "\n",
      "TOTAL: 8, \u001b[92mPASSED\u001b[0m: 8, \u001b[91mFAILED\u001b[0m: 0\n"
     ]
    },
    {
     "data": {
      "text/plain": [
       "[(7, True, 436.706),\n",
       " (5, True, 4.658),\n",
       " (3, True, 0.21),\n",
       " (0, True, 98.782),\n",
       " (5, True, 0.115),\n",
       " (0, True, 0.001),\n",
       " (0, True, 0.001),\n",
       " (3, True, 0.036)]"
      ]
     },
     "execution_count": 10,
     "metadata": {},
     "output_type": "execute_result"
    }
   ],
   "source": [
    "evaluate_test_cases(lcq_recursive, lcq_tests)"
   ]
  },
  {
   "cell_type": "code",
   "execution_count": 11,
   "id": "7906b312",
   "metadata": {},
   "outputs": [
    {
     "name": "stdout",
     "output_type": "stream",
     "text": [
      "Wall time: 178 ms\n"
     ]
    },
    {
     "data": {
      "text/plain": [
       "7"
      ]
     },
     "execution_count": 11,
     "metadata": {},
     "output_type": "execute_result"
    }
   ],
   "source": [
    "%%time\n",
    "lcq_recursive('seredipitous', 'precipitation')"
   ]
  },
  {
   "cell_type": "code",
   "execution_count": 12,
   "id": "17bd1518",
   "metadata": {},
   "outputs": [
    {
     "name": "stdout",
     "output_type": "stream",
     "text": [
      "Wall time: 3.12 s\n"
     ]
    },
    {
     "data": {
      "text/plain": [
       "0"
      ]
     },
     "execution_count": 12,
     "metadata": {},
     "output_type": "execute_result"
    }
   ],
   "source": [
    "%%time\n",
    "lcq_recursive('Asdfsfafssess', 'oypiououuiuo')"
   ]
  },
  {
   "cell_type": "code",
   "execution_count": 13,
   "id": "fb1b24a9",
   "metadata": {},
   "outputs": [],
   "source": [
    "def lcq_memoized(seq1, seq2):\n",
    "    memo = {}\n",
    "    \n",
    "    def recurse(idx1, idx2):\n",
    "        key = idx1, idx2\n",
    "        \n",
    "        if key in memo:\n",
    "            return memo[key]\n",
    "        \n",
    "        if idx1 == len(seq1) or idx2 == len(seq2):\n",
    "            memo[key] = 0\n",
    "        elif seq1[idx1] == seq2[idx2]:\n",
    "            memo[key] = 1 + recurse(idx1+1, idx2+1)\n",
    "        else:\n",
    "            memo[key] = max(recurse(idx1+1, idx2), \n",
    "                            recurse(idx1, idx2+1))\n",
    "        return memo[key]\n",
    "        \n",
    "    return recurse(0, 0)"
   ]
  },
  {
   "cell_type": "code",
   "execution_count": 14,
   "id": "6caa652a",
   "metadata": {},
   "outputs": [
    {
     "name": "stdout",
     "output_type": "stream",
     "text": [
      "\n",
      "\u001b[1mTEST CASE #0\u001b[0m\n",
      "\n",
      "Input:\n",
      "{'seq1': 'serendipitous', 'seq2': 'precipitation'}\n",
      "\n",
      "Expected Output:\n",
      "7\n",
      "\n",
      "\n",
      "Actual Output:\n",
      "7\n",
      "\n",
      "Execution Time:\n",
      "0.412 ms\n",
      "\n",
      "Test Result:\n",
      "\u001b[92mPASSED\u001b[0m\n",
      "\n",
      "\n",
      "\u001b[1mTEST CASE #1\u001b[0m\n",
      "\n",
      "Input:\n",
      "{'seq1': [1, 3, 5, 6, 7, 2, 5, 2, 3], 'seq2': [6, 2, 4, 7, 1, 5, 6, 2, 3]}\n",
      "\n",
      "Expected Output:\n",
      "5\n",
      "\n",
      "\n",
      "Actual Output:\n",
      "5\n",
      "\n",
      "Execution Time:\n",
      "0.162 ms\n",
      "\n",
      "Test Result:\n",
      "\u001b[92mPASSED\u001b[0m\n",
      "\n",
      "\n",
      "\u001b[1mTEST CASE #2\u001b[0m\n",
      "\n",
      "Input:\n",
      "{'seq1': 'longest', 'seq2': 'stone'}\n",
      "\n",
      "Expected Output:\n",
      "3\n",
      "\n",
      "\n",
      "Actual Output:\n",
      "3\n",
      "\n",
      "Execution Time:\n",
      "0.096 ms\n",
      "\n",
      "Test Result:\n",
      "\u001b[92mPASSED\u001b[0m\n",
      "\n",
      "\n",
      "\u001b[1mTEST CASE #3\u001b[0m\n",
      "\n",
      "Input:\n",
      "{'seq1': 'asdfwevad', 'seq2': 'opkpoiklklj'}\n",
      "\n",
      "Expected Output:\n",
      "0\n",
      "\n",
      "\n",
      "Actual Output:\n",
      "0\n",
      "\n",
      "Execution Time:\n",
      "0.415 ms\n",
      "\n",
      "Test Result:\n",
      "\u001b[92mPASSED\u001b[0m\n",
      "\n",
      "\n",
      "\u001b[1mTEST CASE #4\u001b[0m\n",
      "\n",
      "Input:\n",
      "{'seq1': 'dense', 'seq2': 'condensed'}\n",
      "\n",
      "Expected Output:\n",
      "5\n",
      "\n",
      "\n",
      "Actual Output:\n",
      "5\n",
      "\n",
      "Execution Time:\n",
      "0.098 ms\n",
      "\n",
      "Test Result:\n",
      "\u001b[92mPASSED\u001b[0m\n",
      "\n",
      "\n",
      "\u001b[1mTEST CASE #5\u001b[0m\n",
      "\n",
      "Input:\n",
      "{'seq1': '', 'seq2': 'opkpoiklklj'}\n",
      "\n",
      "Expected Output:\n",
      "0\n",
      "\n",
      "\n",
      "Actual Output:\n",
      "0\n",
      "\n",
      "Execution Time:\n",
      "0.008 ms\n",
      "\n",
      "Test Result:\n",
      "\u001b[92mPASSED\u001b[0m\n",
      "\n",
      "\n",
      "\u001b[1mTEST CASE #6\u001b[0m\n",
      "\n",
      "Input:\n",
      "{'seq1': '', 'seq2': ''}\n",
      "\n",
      "Expected Output:\n",
      "0\n",
      "\n",
      "\n",
      "Actual Output:\n",
      "0\n",
      "\n",
      "Execution Time:\n",
      "0.006 ms\n",
      "\n",
      "Test Result:\n",
      "\u001b[92mPASSED\u001b[0m\n",
      "\n",
      "\n",
      "\u001b[1mTEST CASE #7\u001b[0m\n",
      "\n",
      "Input:\n",
      "{'seq1': 'abcdef', 'seq2': 'badcfe'}\n",
      "\n",
      "Expected Output:\n",
      "3\n",
      "\n",
      "\n",
      "Actual Output:\n",
      "3\n",
      "\n",
      "Execution Time:\n",
      "0.144 ms\n",
      "\n",
      "Test Result:\n",
      "\u001b[92mPASSED\u001b[0m\n",
      "\n",
      "\n",
      "\u001b[1mSUMMARY\u001b[0m\n",
      "\n",
      "TOTAL: 8, \u001b[92mPASSED\u001b[0m: 8, \u001b[91mFAILED\u001b[0m: 0\n"
     ]
    },
    {
     "data": {
      "text/plain": [
       "[(7, True, 0.412),\n",
       " (5, True, 0.162),\n",
       " (3, True, 0.096),\n",
       " (0, True, 0.415),\n",
       " (5, True, 0.098),\n",
       " (0, True, 0.008),\n",
       " (0, True, 0.006),\n",
       " (3, True, 0.144)]"
      ]
     },
     "execution_count": 14,
     "metadata": {},
     "output_type": "execute_result"
    }
   ],
   "source": [
    "evaluate_test_cases(lcq_memoized, lcq_tests)"
   ]
  },
  {
   "cell_type": "code",
   "execution_count": 15,
   "id": "954a07e5",
   "metadata": {},
   "outputs": [
    {
     "name": "stdout",
     "output_type": "stream",
     "text": [
      "Wall time: 0 ns\n"
     ]
    },
    {
     "data": {
      "text/plain": [
       "0"
      ]
     },
     "execution_count": 15,
     "metadata": {},
     "output_type": "execute_result"
    }
   ],
   "source": [
    "%%time\n",
    "lcq_memoized('Asdfsfafssess', 'oypiououuiuo')"
   ]
  },
  {
   "cell_type": "code",
   "execution_count": 16,
   "id": "23a97286",
   "metadata": {},
   "outputs": [
    {
     "name": "stdout",
     "output_type": "stream",
     "text": [
      "Wall time: 0 ns\n"
     ]
    },
    {
     "data": {
      "text/plain": [
       "7"
      ]
     },
     "execution_count": 16,
     "metadata": {},
     "output_type": "execute_result"
    }
   ],
   "source": [
    "%%time\n",
    "lcq_memoized('seredipitous', 'precipitation')"
   ]
  },
  {
   "cell_type": "code",
   "execution_count": 17,
   "id": "a0aff0a4",
   "metadata": {},
   "outputs": [
    {
     "name": "stdout",
     "output_type": "stream",
     "text": [
      "Wall time: 0 ns\n"
     ]
    },
    {
     "data": {
      "text/plain": [
       "3"
      ]
     },
     "execution_count": 17,
     "metadata": {},
     "output_type": "execute_result"
    }
   ],
   "source": [
    "%%time\n",
    "lcq_memoized('longest', 'stone')"
   ]
  },
  {
   "cell_type": "code",
   "execution_count": 18,
   "id": "2feea3ab",
   "metadata": {},
   "outputs": [],
   "source": [
    "def lcq_dp(seq1, seq2):\n",
    "    n1, n2 = len(seq1), len(seq2)\n",
    "    results = [[0 for _ in range(n2+1)] for _ in range(n1+1)]\n",
    "    for idx1 in range(n1):\n",
    "        for idx2 in range(n2):\n",
    "            if seq1[idx1] == seq2[idx2]:\n",
    "                results[idx1+1][idx2+1] = 1 + results[idx1][idx2]\n",
    "            else:\n",
    "                results[idx1+1][idx2+1] = max(results[idx1][idx2+1], results[idx1+1][idx2])\n",
    "    return results[-1][-1]"
   ]
  },
  {
   "cell_type": "code",
   "execution_count": 19,
   "id": "1b9bfd93",
   "metadata": {},
   "outputs": [
    {
     "name": "stdout",
     "output_type": "stream",
     "text": [
      "\n",
      "\u001b[1mTEST CASE #0\u001b[0m\n",
      "\n",
      "Input:\n",
      "{'seq1': 'serendipitous', 'seq2': 'precipitation'}\n",
      "\n",
      "Expected Output:\n",
      "7\n",
      "\n",
      "\n",
      "Actual Output:\n",
      "7\n",
      "\n",
      "Execution Time:\n",
      "0.231 ms\n",
      "\n",
      "Test Result:\n",
      "\u001b[92mPASSED\u001b[0m\n",
      "\n",
      "\n",
      "\u001b[1mTEST CASE #1\u001b[0m\n",
      "\n",
      "Input:\n",
      "{'seq1': [1, 3, 5, 6, 7, 2, 5, 2, 3], 'seq2': [6, 2, 4, 7, 1, 5, 6, 2, 3]}\n",
      "\n",
      "Expected Output:\n",
      "5\n",
      "\n",
      "\n",
      "Actual Output:\n",
      "5\n",
      "\n",
      "Execution Time:\n",
      "0.108 ms\n",
      "\n",
      "Test Result:\n",
      "\u001b[92mPASSED\u001b[0m\n",
      "\n",
      "\n",
      "\u001b[1mTEST CASE #2\u001b[0m\n",
      "\n",
      "Input:\n",
      "{'seq1': 'longest', 'seq2': 'stone'}\n",
      "\n",
      "Expected Output:\n",
      "3\n",
      "\n",
      "\n",
      "Actual Output:\n",
      "3\n",
      "\n",
      "Execution Time:\n",
      "0.066 ms\n",
      "\n",
      "Test Result:\n",
      "\u001b[92mPASSED\u001b[0m\n",
      "\n",
      "\n",
      "\u001b[1mTEST CASE #3\u001b[0m\n",
      "\n",
      "Input:\n",
      "{'seq1': 'asdfwevad', 'seq2': 'opkpoiklklj'}\n",
      "\n",
      "Expected Output:\n",
      "0\n",
      "\n",
      "\n",
      "Actual Output:\n",
      "0\n",
      "\n",
      "Execution Time:\n",
      "0.273 ms\n",
      "\n",
      "Test Result:\n",
      "\u001b[92mPASSED\u001b[0m\n",
      "\n",
      "\n",
      "\u001b[1mTEST CASE #4\u001b[0m\n",
      "\n",
      "Input:\n",
      "{'seq1': 'dense', 'seq2': 'condensed'}\n",
      "\n",
      "Expected Output:\n",
      "5\n",
      "\n",
      "\n",
      "Actual Output:\n",
      "5\n",
      "\n",
      "Execution Time:\n",
      "0.119 ms\n",
      "\n",
      "Test Result:\n",
      "\u001b[92mPASSED\u001b[0m\n",
      "\n",
      "\n",
      "\u001b[1mTEST CASE #5\u001b[0m\n",
      "\n",
      "Input:\n",
      "{'seq1': '', 'seq2': 'opkpoiklklj'}\n",
      "\n",
      "Expected Output:\n",
      "0\n",
      "\n",
      "\n",
      "Actual Output:\n",
      "0\n",
      "\n",
      "Execution Time:\n",
      "0.014 ms\n",
      "\n",
      "Test Result:\n",
      "\u001b[92mPASSED\u001b[0m\n",
      "\n",
      "\n",
      "\u001b[1mTEST CASE #6\u001b[0m\n",
      "\n",
      "Input:\n",
      "{'seq1': '', 'seq2': ''}\n",
      "\n",
      "Expected Output:\n",
      "0\n",
      "\n",
      "\n",
      "Actual Output:\n",
      "0\n",
      "\n",
      "Execution Time:\n",
      "0.013 ms\n",
      "\n",
      "Test Result:\n",
      "\u001b[92mPASSED\u001b[0m\n",
      "\n",
      "\n",
      "\u001b[1mTEST CASE #7\u001b[0m\n",
      "\n",
      "Input:\n",
      "{'seq1': 'abcdef', 'seq2': 'badcfe'}\n",
      "\n",
      "Expected Output:\n",
      "3\n",
      "\n",
      "\n",
      "Actual Output:\n",
      "3\n",
      "\n",
      "Execution Time:\n",
      "0.106 ms\n",
      "\n",
      "Test Result:\n",
      "\u001b[92mPASSED\u001b[0m\n",
      "\n",
      "\n",
      "\u001b[1mSUMMARY\u001b[0m\n",
      "\n",
      "TOTAL: 8, \u001b[92mPASSED\u001b[0m: 8, \u001b[91mFAILED\u001b[0m: 0\n"
     ]
    },
    {
     "data": {
      "text/plain": [
       "[(7, True, 0.231),\n",
       " (5, True, 0.108),\n",
       " (3, True, 0.066),\n",
       " (0, True, 0.273),\n",
       " (5, True, 0.119),\n",
       " (0, True, 0.014),\n",
       " (0, True, 0.013),\n",
       " (3, True, 0.106)]"
      ]
     },
     "execution_count": 19,
     "metadata": {},
     "output_type": "execute_result"
    }
   ],
   "source": [
    "evaluate_test_cases(lcq_dp, lcq_tests)"
   ]
  },
  {
   "cell_type": "code",
   "execution_count": 20,
   "id": "11819ff1",
   "metadata": {},
   "outputs": [
    {
     "name": "stdout",
     "output_type": "stream",
     "text": [
      "Wall time: 0 ns\n"
     ]
    },
    {
     "data": {
      "text/plain": [
       "0"
      ]
     },
     "execution_count": 20,
     "metadata": {},
     "output_type": "execute_result"
    }
   ],
   "source": [
    "%%time\n",
    "lcq_dp('Asdfsfafssess', 'oypiououuiuo')"
   ]
  },
  {
   "cell_type": "code",
   "execution_count": 21,
   "id": "7af9f09a",
   "metadata": {},
   "outputs": [
    {
     "name": "stdout",
     "output_type": "stream",
     "text": [
      "Wall time: 0 ns\n"
     ]
    },
    {
     "data": {
      "text/plain": [
       "7"
      ]
     },
     "execution_count": 21,
     "metadata": {},
     "output_type": "execute_result"
    }
   ],
   "source": [
    "%%time\n",
    "lcq_dp('seredipitous', 'precipitation')"
   ]
  },
  {
   "cell_type": "code",
   "execution_count": 22,
   "id": "bbd69fab",
   "metadata": {},
   "outputs": [
    {
     "name": "stdout",
     "output_type": "stream",
     "text": [
      "Wall time: 0 ns\n"
     ]
    },
    {
     "data": {
      "text/plain": [
       "3"
      ]
     },
     "execution_count": 22,
     "metadata": {},
     "output_type": "execute_result"
    }
   ],
   "source": [
    "%%time\n",
    "lcq_dp('longest', 'stone')"
   ]
  },
  {
   "cell_type": "code",
   "execution_count": 23,
   "id": "093eb7e5",
   "metadata": {},
   "outputs": [],
   "source": [
    "from jovian.pythondsa import evaluate_test_cases"
   ]
  },
  {
   "cell_type": "code",
   "execution_count": 24,
   "id": "9af175b4",
   "metadata": {},
   "outputs": [],
   "source": [
    "def max_profit_recursive(capacity, weights, profits, idx=0):\n",
    "    if idx == len(weights):\n",
    "        return 0\n",
    "    if weights[idx] > capacity:\n",
    "        return max_profit_recursive(capacity, weights, profits, idx+1)\n",
    "    else:\n",
    "        return max(max_profit_recursive(capacity, weights, profits, idx+1),\n",
    "                   profits[idx] + max_profit_recursive(capacity-weights[idx], weights, profits, idx+1))"
   ]
  },
  {
   "cell_type": "code",
   "execution_count": 25,
   "id": "54e9d80c",
   "metadata": {},
   "outputs": [
    {
     "name": "stdout",
     "output_type": "stream",
     "text": [
      "\n",
      "\u001b[1mTEST CASE #0\u001b[0m\n",
      "\n",
      "Input:\n",
      "{'capacity': 165, 'weights': [23, 31, 29, 44, 53, 38, 63, 85, 89, 82], 'profits': [92, 57, 49, 68, 6...\n",
      "\n",
      "Expected Output:\n",
      "309\n",
      "\n",
      "\n",
      "Actual Output:\n",
      "309\n",
      "\n",
      "Execution Time:\n",
      "0.499 ms\n",
      "\n",
      "Test Result:\n",
      "\u001b[92mPASSED\u001b[0m\n",
      "\n",
      "\n",
      "\u001b[1mTEST CASE #1\u001b[0m\n",
      "\n",
      "Input:\n",
      "{'capacity': 3, 'weights': [4, 5, 6], 'profits': [1, 2, 3]}\n",
      "\n",
      "Expected Output:\n",
      "0\n",
      "\n",
      "\n",
      "Actual Output:\n",
      "0\n",
      "\n",
      "Execution Time:\n",
      "0.01 ms\n",
      "\n",
      "Test Result:\n",
      "\u001b[92mPASSED\u001b[0m\n",
      "\n",
      "\n",
      "\u001b[1mTEST CASE #2\u001b[0m\n",
      "\n",
      "Input:\n",
      "{'capacity': 4, 'weights': [4, 5, 1], 'profits': [1, 2, 3]}\n",
      "\n",
      "Expected Output:\n",
      "3\n",
      "\n",
      "\n",
      "Actual Output:\n",
      "3\n",
      "\n",
      "Execution Time:\n",
      "0.016 ms\n",
      "\n",
      "Test Result:\n",
      "\u001b[92mPASSED\u001b[0m\n",
      "\n",
      "\n",
      "\u001b[1mTEST CASE #3\u001b[0m\n",
      "\n",
      "Input:\n",
      "{'capacity': 170, 'weights': [41, 50, 49, 59, 55, 57, 60], 'profits': [442, 525, 511, 593, 546, 564,...\n",
      "\n",
      "Expected Output:\n",
      "1735\n",
      "\n",
      "\n",
      "Actual Output:\n",
      "1735\n",
      "\n",
      "Execution Time:\n",
      "0.255 ms\n",
      "\n",
      "Test Result:\n",
      "\u001b[92mPASSED\u001b[0m\n",
      "\n",
      "\n",
      "\u001b[1mTEST CASE #4\u001b[0m\n",
      "\n",
      "Input:\n",
      "{'capacity': 15, 'weights': [4, 5, 6], 'profits': [1, 2, 3]}\n",
      "\n",
      "Expected Output:\n",
      "6\n",
      "\n",
      "\n",
      "Actual Output:\n",
      "6\n",
      "\n",
      "Execution Time:\n",
      "0.027 ms\n",
      "\n",
      "Test Result:\n",
      "\u001b[92mPASSED\u001b[0m\n",
      "\n",
      "\n",
      "\u001b[1mTEST CASE #5\u001b[0m\n",
      "\n",
      "Input:\n",
      "{'capacity': 15, 'weights': [4, 5, 1, 3, 2, 5], 'profits': [2, 3, 1, 5, 4, 7]}\n",
      "\n",
      "Expected Output:\n",
      "19\n",
      "\n",
      "\n",
      "Actual Output:\n",
      "19\n",
      "\n",
      "Execution Time:\n",
      "0.197 ms\n",
      "\n",
      "Test Result:\n",
      "\u001b[92mPASSED\u001b[0m\n",
      "\n",
      "\n",
      "\u001b[1mSUMMARY\u001b[0m\n",
      "\n",
      "TOTAL: 6, \u001b[92mPASSED\u001b[0m: 6, \u001b[91mFAILED\u001b[0m: 0\n"
     ]
    },
    {
     "data": {
      "text/plain": [
       "[(309, True, 0.499),\n",
       " (0, True, 0.01),\n",
       " (3, True, 0.016),\n",
       " (1735, True, 0.255),\n",
       " (6, True, 0.027),\n",
       " (19, True, 0.197)]"
      ]
     },
     "execution_count": 25,
     "metadata": {},
     "output_type": "execute_result"
    }
   ],
   "source": [
    "evaluate_test_cases(max_profit_recursive, tests)"
   ]
  },
  {
   "cell_type": "code",
   "execution_count": 26,
   "id": "3e0a66a1",
   "metadata": {},
   "outputs": [],
   "source": [
    "def knapsack_memo(capacity, weights, profits):\n",
    "    memo = {}\n",
    "    \n",
    "    def recurse(idx, remaining):\n",
    "        key = (idx, remaining)\n",
    "        if key in memo:\n",
    "            return memo[key]\n",
    "        elif idx == len(weights):\n",
    "            memo[key] = 0\n",
    "        elif weights[idx] > remaining:\n",
    "            memo[key] = recurse(idx+1, remaining)\n",
    "        else:\n",
    "            memo[key] = max(recurse(idx+1, remaining), \n",
    "                            profits[idx] + recurse(idx+1, remaining-weights[idx]))\n",
    "        return memo[key] \n",
    "        \n",
    "    return recurse(0, capacity)"
   ]
  },
  {
   "cell_type": "code",
   "execution_count": 27,
   "id": "87dc1422",
   "metadata": {},
   "outputs": [
    {
     "name": "stdout",
     "output_type": "stream",
     "text": [
      "\n",
      "\u001b[1mTEST CASE #0\u001b[0m\n",
      "\n",
      "Input:\n",
      "{'capacity': 165, 'weights': [23, 31, 29, 44, 53, 38, 63, 85, 89, 82], 'profits': [92, 57, 49, 68, 6...\n",
      "\n",
      "Expected Output:\n",
      "309\n",
      "\n",
      "\n",
      "Actual Output:\n",
      "309\n",
      "\n",
      "Execution Time:\n",
      "0.648 ms\n",
      "\n",
      "Test Result:\n",
      "\u001b[92mPASSED\u001b[0m\n",
      "\n",
      "\n",
      "\u001b[1mTEST CASE #1\u001b[0m\n",
      "\n",
      "Input:\n",
      "{'capacity': 3, 'weights': [4, 5, 6], 'profits': [1, 2, 3]}\n",
      "\n",
      "Expected Output:\n",
      "0\n",
      "\n",
      "\n",
      "Actual Output:\n",
      "0\n",
      "\n",
      "Execution Time:\n",
      "0.02 ms\n",
      "\n",
      "Test Result:\n",
      "\u001b[92mPASSED\u001b[0m\n",
      "\n",
      "\n",
      "\u001b[1mTEST CASE #2\u001b[0m\n",
      "\n",
      "Input:\n",
      "{'capacity': 4, 'weights': [4, 5, 1], 'profits': [1, 2, 3]}\n",
      "\n",
      "Expected Output:\n",
      "3\n",
      "\n",
      "\n",
      "Actual Output:\n",
      "3\n",
      "\n",
      "Execution Time:\n",
      "0.039 ms\n",
      "\n",
      "Test Result:\n",
      "\u001b[92mPASSED\u001b[0m\n",
      "\n",
      "\n",
      "\u001b[1mTEST CASE #3\u001b[0m\n",
      "\n",
      "Input:\n",
      "{'capacity': 170, 'weights': [41, 50, 49, 59, 55, 57, 60], 'profits': [442, 525, 511, 593, 546, 564,...\n",
      "\n",
      "Expected Output:\n",
      "1735\n",
      "\n",
      "\n",
      "Actual Output:\n",
      "1735\n",
      "\n",
      "Execution Time:\n",
      "0.385 ms\n",
      "\n",
      "Test Result:\n",
      "\u001b[92mPASSED\u001b[0m\n",
      "\n",
      "\n",
      "\u001b[1mTEST CASE #4\u001b[0m\n",
      "\n",
      "Input:\n",
      "{'capacity': 15, 'weights': [4, 5, 6], 'profits': [1, 2, 3]}\n",
      "\n",
      "Expected Output:\n",
      "6\n",
      "\n",
      "\n",
      "Actual Output:\n",
      "6\n",
      "\n",
      "Execution Time:\n",
      "0.061 ms\n",
      "\n",
      "Test Result:\n",
      "\u001b[92mPASSED\u001b[0m\n",
      "\n",
      "\n",
      "\u001b[1mTEST CASE #5\u001b[0m\n",
      "\n",
      "Input:\n",
      "{'capacity': 15, 'weights': [4, 5, 1, 3, 2, 5], 'profits': [2, 3, 1, 5, 4, 7]}\n",
      "\n",
      "Expected Output:\n",
      "19\n",
      "\n",
      "\n",
      "Actual Output:\n",
      "19\n",
      "\n",
      "Execution Time:\n",
      "0.212 ms\n",
      "\n",
      "Test Result:\n",
      "\u001b[92mPASSED\u001b[0m\n",
      "\n",
      "\n",
      "\u001b[1mSUMMARY\u001b[0m\n",
      "\n",
      "TOTAL: 6, \u001b[92mPASSED\u001b[0m: 6, \u001b[91mFAILED\u001b[0m: 0\n"
     ]
    },
    {
     "data": {
      "text/plain": [
       "[(309, True, 0.648),\n",
       " (0, True, 0.02),\n",
       " (3, True, 0.039),\n",
       " (1735, True, 0.385),\n",
       " (6, True, 0.061),\n",
       " (19, True, 0.212)]"
      ]
     },
     "execution_count": 27,
     "metadata": {},
     "output_type": "execute_result"
    }
   ],
   "source": [
    "evaluate_test_cases(knapsack_memo, tests)"
   ]
  },
  {
   "cell_type": "code",
   "execution_count": 28,
   "id": "0d3cef2a",
   "metadata": {},
   "outputs": [],
   "source": [
    "# Dynamic programming:\n",
    "\n",
    "def knapsack_dp(capacity, weights, profits):\n",
    "    n = len(weights)\n",
    "    results = [[0 for _ in range(capacity+1)] for _ in range(n+1)]\n",
    "    \n",
    "    for idx in range(n):\n",
    "        for c in range(capacity+1):\n",
    "            if weights[idx] > c:\n",
    "                results[idx+1][c] = results[idx][c]\n",
    "            else:\n",
    "                results[idx+1][c] = max(results[idx][c], profits[idx] + results[idx][c-weights[idx]])\n",
    "            \n",
    "    return results[-1][-1]"
   ]
  },
  {
   "cell_type": "code",
   "execution_count": 29,
   "id": "3cdfc6f3",
   "metadata": {},
   "outputs": [
    {
     "name": "stdout",
     "output_type": "stream",
     "text": [
      "\n",
      "\u001b[1mTEST CASE #0\u001b[0m\n",
      "\n",
      "Input:\n",
      "{'capacity': 165, 'weights': [23, 31, 29, 44, 53, 38, 63, 85, 89, 82], 'profits': [92, 57, 49, 68, 6...\n",
      "\n",
      "Expected Output:\n",
      "309\n",
      "\n",
      "\n",
      "Actual Output:\n",
      "309\n",
      "\n",
      "Execution Time:\n",
      "1.458 ms\n",
      "\n",
      "Test Result:\n",
      "\u001b[92mPASSED\u001b[0m\n",
      "\n",
      "\n",
      "\u001b[1mTEST CASE #1\u001b[0m\n",
      "\n",
      "Input:\n",
      "{'capacity': 3, 'weights': [4, 5, 6], 'profits': [1, 2, 3]}\n",
      "\n",
      "Expected Output:\n",
      "0\n",
      "\n",
      "\n",
      "Actual Output:\n",
      "0\n",
      "\n",
      "Execution Time:\n",
      "0.021 ms\n",
      "\n",
      "Test Result:\n",
      "\u001b[92mPASSED\u001b[0m\n",
      "\n",
      "\n",
      "\u001b[1mTEST CASE #2\u001b[0m\n",
      "\n",
      "Input:\n",
      "{'capacity': 4, 'weights': [4, 5, 1], 'profits': [1, 2, 3]}\n",
      "\n",
      "Expected Output:\n",
      "3\n",
      "\n",
      "\n",
      "Actual Output:\n",
      "3\n",
      "\n",
      "Execution Time:\n",
      "0.083 ms\n",
      "\n",
      "Test Result:\n",
      "\u001b[92mPASSED\u001b[0m\n",
      "\n",
      "\n",
      "\u001b[1mTEST CASE #3\u001b[0m\n",
      "\n",
      "Input:\n",
      "{'capacity': 170, 'weights': [41, 50, 49, 59, 55, 57, 60], 'profits': [442, 525, 511, 593, 546, 564,...\n",
      "\n",
      "Expected Output:\n",
      "1735\n",
      "\n",
      "\n",
      "Actual Output:\n",
      "1735\n",
      "\n",
      "Execution Time:\n",
      "1.924 ms\n",
      "\n",
      "Test Result:\n",
      "\u001b[92mPASSED\u001b[0m\n",
      "\n",
      "\n",
      "\u001b[1mTEST CASE #4\u001b[0m\n",
      "\n",
      "Input:\n",
      "{'capacity': 15, 'weights': [4, 5, 6], 'profits': [1, 2, 3]}\n",
      "\n",
      "Expected Output:\n",
      "6\n",
      "\n",
      "\n",
      "Actual Output:\n",
      "6\n",
      "\n",
      "Execution Time:\n",
      "0.106 ms\n",
      "\n",
      "Test Result:\n",
      "\u001b[92mPASSED\u001b[0m\n",
      "\n",
      "\n",
      "\u001b[1mTEST CASE #5\u001b[0m\n",
      "\n",
      "Input:\n",
      "{'capacity': 15, 'weights': [4, 5, 1, 3, 2, 5], 'profits': [2, 3, 1, 5, 4, 7]}\n",
      "\n",
      "Expected Output:\n",
      "19\n",
      "\n",
      "\n",
      "Actual Output:\n",
      "19\n",
      "\n",
      "Execution Time:\n",
      "0.186 ms\n",
      "\n",
      "Test Result:\n",
      "\u001b[92mPASSED\u001b[0m\n",
      "\n",
      "\n",
      "\u001b[1mSUMMARY\u001b[0m\n",
      "\n",
      "TOTAL: 6, \u001b[92mPASSED\u001b[0m: 6, \u001b[91mFAILED\u001b[0m: 0\n"
     ]
    },
    {
     "data": {
      "text/plain": [
       "[(309, True, 1.458),\n",
       " (0, True, 0.021),\n",
       " (3, True, 0.083),\n",
       " (1735, True, 1.924),\n",
       " (6, True, 0.106),\n",
       " (19, True, 0.186)]"
      ]
     },
     "execution_count": 29,
     "metadata": {},
     "output_type": "execute_result"
    }
   ],
   "source": [
    "evaluate_test_cases(knapsack_dp, tests)"
   ]
  },
  {
   "cell_type": "code",
   "execution_count": 30,
   "id": "7094b262",
   "metadata": {},
   "outputs": [],
   "source": [
    "import jovian"
   ]
  },
  {
   "cell_type": "code",
   "execution_count": 31,
   "id": "52e4f78b",
   "metadata": {},
   "outputs": [
    {
     "data": {
      "application/javascript": [
       "window.require && require([\"base/js/namespace\"],function(Jupyter){Jupyter.notebook.save_checkpoint()})"
      ],
      "text/plain": [
       "<IPython.core.display.Javascript object>"
      ]
     },
     "metadata": {},
     "output_type": "display_data"
    },
    {
     "data": {
      "application/javascript": [
       "if (window.IPython && IPython.notebook.kernel) IPython.notebook.kernel.execute('jovian.utils.jupyter.get_notebook_name_saved = lambda: \"' + IPython.notebook.notebook_name + '\"')"
      ],
      "text/plain": [
       "<IPython.core.display.Javascript object>"
      ]
     },
     "metadata": {},
     "output_type": "display_data"
    },
    {
     "name": "stderr",
     "output_type": "stream",
     "text": [
      "[jovian] Error: Failed to read the Jupyter notebook. Please re-run this cell to try again. If the issue persists, provide the \"filename\" argument to \"jovian.commit\" e.g. \"jovian.commit(filename='my-notebook.ipynb')\"\r\n"
     ]
    }
   ],
   "source": [
    "jovian.commit(filename=\"dynamic-programming-problems\")"
   ]
  },
  {
   "cell_type": "code",
   "execution_count": null,
   "id": "de9cd647",
   "metadata": {},
   "outputs": [
    {
     "data": {
      "application/javascript": [
       "window.require && require([\"base/js/namespace\"],function(Jupyter){Jupyter.notebook.save_checkpoint()})"
      ],
      "text/plain": [
       "<IPython.core.display.Javascript object>"
      ]
     },
     "metadata": {},
     "output_type": "display_data"
    }
   ],
   "source": [
    "jovian.commit()"
   ]
  },
  {
   "cell_type": "code",
   "execution_count": null,
   "id": "e0044bfe",
   "metadata": {},
   "outputs": [],
   "source": []
  },
  {
   "cell_type": "code",
   "execution_count": null,
   "id": "f64a1e71",
   "metadata": {},
   "outputs": [],
   "source": []
  }
 ],
 "metadata": {
  "kernelspec": {
   "display_name": "Python 3",
   "language": "python",
   "name": "python3"
  },
  "language_info": {
   "codemirror_mode": {
    "name": "ipython",
    "version": 3
   },
   "file_extension": ".py",
   "mimetype": "text/x-python",
   "name": "python",
   "nbconvert_exporter": "python",
   "pygments_lexer": "ipython3",
   "version": "3.8.8"
  }
 },
 "nbformat": 4,
 "nbformat_minor": 5
}
